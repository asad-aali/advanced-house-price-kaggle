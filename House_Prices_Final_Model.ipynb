{
  "nbformat": 4,
  "nbformat_minor": 0,
  "metadata": {
    "colab": {
      "provenance": [],
      "collapsed_sections": [
        "bR-H9Yyh91GO",
        "EqWR487NxRJ4",
        "54L9dxAmx4oI",
        "tWobwuD5x-i7",
        "7lCRQOIasrnV",
        "u_7ZxGhxs8qS",
        "FXDNz8-ls_rC",
        "BCUBqdMMDAZF",
        "RT5nnggrUVu7"
      ]
    },
    "kernelspec": {
      "name": "python3",
      "display_name": "Python 3"
    },
    "language_info": {
      "name": "python"
    }
  },
  "cells": [
    {
      "cell_type": "markdown",
      "metadata": {
        "id": "cmWzhy1uxB-T"
      },
      "source": [
        "# House Prices - Advanced Regression Techniques"
      ]
    },
    {
      "cell_type": "markdown",
      "metadata": {
        "id": "bR-H9Yyh91GO"
      },
      "source": [
        "## Scikit Learn Intelex Installation"
      ]
    },
    {
      "cell_type": "code",
      "metadata": {
        "colab": {
          "base_uri": "https://localhost:8080/"
        },
        "id": "huWxtoWl96BQ",
        "outputId": "64be36e2-2b5b-4478-b854-ae50253d5840"
      },
      "source": [
        "!pip install scikit-learn-intelex -q --progress-bar off\n",
        "!pip install optuna"
      ],
      "execution_count": null,
      "outputs": [
        {
          "output_type": "stream",
          "name": "stdout",
          "text": [
            "\u001b[?25l\n",
            "\u001b[?25h\u001b[?25l\n",
            "\u001b[?25h\u001b[?25l\n",
            "\u001b[?25h\u001b[?25l\n",
            "\u001b[?25hCollecting optuna\n",
            "  Downloading optuna-2.9.1-py3-none-any.whl (302 kB)\n",
            "\u001b[K     |████████████████████████████████| 302 kB 5.2 MB/s \n",
            "\u001b[?25hCollecting cmaes>=0.8.2\n",
            "  Downloading cmaes-0.8.2-py3-none-any.whl (15 kB)\n",
            "Requirement already satisfied: packaging>=20.0 in /usr/local/lib/python3.7/dist-packages (from optuna) (21.0)\n",
            "Requirement already satisfied: numpy in /usr/local/lib/python3.7/dist-packages (from optuna) (1.19.5)\n",
            "Requirement already satisfied: PyYAML in /usr/local/lib/python3.7/dist-packages (from optuna) (3.13)\n",
            "Collecting alembic\n",
            "  Downloading alembic-1.7.3-py3-none-any.whl (208 kB)\n",
            "\u001b[K     |████████████████████████████████| 208 kB 52.2 MB/s \n",
            "\u001b[?25hRequirement already satisfied: sqlalchemy>=1.1.0 in /usr/local/lib/python3.7/dist-packages (from optuna) (1.4.23)\n",
            "Collecting colorlog\n",
            "  Downloading colorlog-6.4.1-py2.py3-none-any.whl (11 kB)\n",
            "Requirement already satisfied: scipy!=1.4.0 in /usr/local/lib/python3.7/dist-packages (from optuna) (1.4.1)\n",
            "Requirement already satisfied: tqdm in /usr/local/lib/python3.7/dist-packages (from optuna) (4.62.2)\n",
            "Collecting cliff\n",
            "  Downloading cliff-3.9.0-py3-none-any.whl (80 kB)\n",
            "\u001b[K     |████████████████████████████████| 80 kB 11.2 MB/s \n",
            "\u001b[?25hRequirement already satisfied: pyparsing>=2.0.2 in /usr/local/lib/python3.7/dist-packages (from packaging>=20.0->optuna) (2.4.7)\n",
            "Requirement already satisfied: importlib-metadata in /usr/local/lib/python3.7/dist-packages (from sqlalchemy>=1.1.0->optuna) (4.8.1)\n",
            "Requirement already satisfied: greenlet!=0.4.17 in /usr/local/lib/python3.7/dist-packages (from sqlalchemy>=1.1.0->optuna) (1.1.1)\n",
            "Requirement already satisfied: importlib-resources in /usr/local/lib/python3.7/dist-packages (from alembic->optuna) (5.2.2)\n",
            "Collecting Mako\n",
            "  Downloading Mako-1.1.5-py2.py3-none-any.whl (75 kB)\n",
            "\u001b[K     |████████████████████████████████| 75 kB 5.5 MB/s \n",
            "\u001b[?25hCollecting cmd2>=1.0.0\n",
            "  Downloading cmd2-2.2.0-py3-none-any.whl (144 kB)\n",
            "\u001b[K     |████████████████████████████████| 144 kB 48.0 MB/s \n",
            "\u001b[?25hCollecting stevedore>=2.0.1\n",
            "  Downloading stevedore-3.4.0-py3-none-any.whl (49 kB)\n",
            "\u001b[K     |████████████████████████████████| 49 kB 7.1 MB/s \n",
            "\u001b[?25hCollecting pbr!=2.1.0,>=2.0.0\n",
            "  Downloading pbr-5.6.0-py2.py3-none-any.whl (111 kB)\n",
            "\u001b[K     |████████████████████████████████| 111 kB 64.9 MB/s \n",
            "\u001b[?25hRequirement already satisfied: PrettyTable>=0.7.2 in /usr/local/lib/python3.7/dist-packages (from cliff->optuna) (2.2.0)\n",
            "Collecting autopage>=0.4.0\n",
            "  Downloading autopage-0.4.0-py3-none-any.whl (20 kB)\n",
            "Requirement already satisfied: wcwidth>=0.1.7 in /usr/local/lib/python3.7/dist-packages (from cmd2>=1.0.0->cliff->optuna) (0.2.5)\n",
            "Requirement already satisfied: typing-extensions in /usr/local/lib/python3.7/dist-packages (from cmd2>=1.0.0->cliff->optuna) (3.7.4.3)\n",
            "Collecting colorama>=0.3.7\n",
            "  Downloading colorama-0.4.4-py2.py3-none-any.whl (16 kB)\n",
            "Collecting pyperclip>=1.6\n",
            "  Downloading pyperclip-1.8.2.tar.gz (20 kB)\n",
            "Requirement already satisfied: attrs>=16.3.0 in /usr/local/lib/python3.7/dist-packages (from cmd2>=1.0.0->cliff->optuna) (21.2.0)\n",
            "Requirement already satisfied: zipp>=0.5 in /usr/local/lib/python3.7/dist-packages (from importlib-metadata->sqlalchemy>=1.1.0->optuna) (3.5.0)\n",
            "Requirement already satisfied: MarkupSafe>=0.9.2 in /usr/local/lib/python3.7/dist-packages (from Mako->alembic->optuna) (2.0.1)\n",
            "Building wheels for collected packages: pyperclip\n",
            "  Building wheel for pyperclip (setup.py) ... \u001b[?25l\u001b[?25hdone\n",
            "  Created wheel for pyperclip: filename=pyperclip-1.8.2-py3-none-any.whl size=11136 sha256=9606fa9254a0e07be8e505f164e233ec50ff8129ef17d9e621d8be2a3478e0ae\n",
            "  Stored in directory: /root/.cache/pip/wheels/9f/18/84/8f69f8b08169c7bae2dde6bd7daf0c19fca8c8e500ee620a28\n",
            "Successfully built pyperclip\n",
            "Installing collected packages: pyperclip, pbr, colorama, stevedore, Mako, cmd2, autopage, colorlog, cmaes, cliff, alembic, optuna\n",
            "Successfully installed Mako-1.1.5 alembic-1.7.3 autopage-0.4.0 cliff-3.9.0 cmaes-0.8.2 cmd2-2.2.0 colorama-0.4.4 colorlog-6.4.1 optuna-2.9.1 pbr-5.6.0 pyperclip-1.8.2 stevedore-3.4.0\n"
          ]
        }
      ]
    },
    {
      "cell_type": "markdown",
      "metadata": {
        "id": "EqWR487NxRJ4"
      },
      "source": [
        "## Defining Functions"
      ]
    },
    {
      "cell_type": "code",
      "metadata": {
        "id": "bkIeE2XbuL6f",
        "colab": {
          "base_uri": "https://localhost:8080/"
        },
        "outputId": "b1122274-39da-43ec-c4aa-1ef909da2d4e"
      },
      "source": [
        "import pandas as pd\n",
        "import numpy as np\n",
        "import seaborn as sns\n",
        "import matplotlib\n",
        "import matplotlib.pyplot as plt\n",
        "import os\n",
        "import xgboost as xgb\n",
        "import lightgbm as lgb\n",
        "from scipy.stats import skew\n",
        "from sklearn.base import BaseEstimator, TransformerMixin, RegressorMixin, clone\n",
        "from sklearn.ensemble import RandomForestRegressor, GradientBoostingRegressor\n",
        "from sklearn.linear_model import ElasticNet, Lasso,  BayesianRidge, LassoLarsIC, LassoCV\n",
        "from sklearn.model_selection import cross_val_score, RepeatedKFold, train_test_split, KFold\n",
        "from sklearn.kernel_ridge import KernelRidge\n",
        "from sklearn.pipeline import make_pipeline\n",
        "from sklearn.preprocessing import RobustScaler\n",
        "from sklearn.preprocessing import LabelEncoder\n",
        "from sklearn.metrics import mean_squared_error\n",
        "from sklearn.svm import NuSVR\n",
        "from scipy.special import boxcox1p\n",
        "from sklearn.preprocessing import StandardScaler, MinMaxScaler\n",
        "from google.colab import files\n",
        "import xgboost as xgb\n",
        "import lightgbm as lgb\n",
        "import sys\n",
        "import os\n",
        "import site\n",
        "import optuna\n",
        "sys.path.append(os.path.join(os.path.dirname(site.getsitepackages()[0]), \"site-packages\"))\n",
        "from sklearnex import patch_sklearn\n",
        "from google.colab import drive\n",
        "patch_sklearn()\n",
        "\n",
        "drive.mount('/content/drive')"
      ],
      "execution_count": null,
      "outputs": [
        {
          "output_type": "stream",
          "name": "stderr",
          "text": [
            "Intel(R) Extension for Scikit-learn* enabled (https://github.com/intel/scikit-learn-intelex)\n"
          ]
        },
        {
          "output_type": "stream",
          "name": "stdout",
          "text": [
            "Mounted at /content/drive\n"
          ]
        }
      ]
    },
    {
      "cell_type": "markdown",
      "metadata": {
        "id": "54L9dxAmx4oI"
      },
      "source": [
        "## Loading Data"
      ]
    },
    {
      "cell_type": "code",
      "metadata": {
        "id": "LCj9_EXqx8aR"
      },
      "source": [
        "train = pd.read_csv(\"/content/drive/MyDrive/Colab Notebooks/Business Data Science/Homework 2/input/train.csv\")\n",
        "test = pd.read_csv(\"/content/drive/MyDrive/Colab Notebooks/Business Data Science/Homework 2/input/test.csv\")\n",
        "sample_submission = pd.read_csv('/content/drive/MyDrive/Colab Notebooks/Business Data Science/Homework 2/input/sample_submission.csv')\n",
        "pseudo = pd.read_csv('/content/drive/MyDrive/Colab Notebooks/Business Data Science/Homework 2/output/submission.csv')\n",
        "\n",
        "train.drop(\"Id\", axis = 1, inplace = True)\n",
        "test.drop(\"Id\", axis = 1, inplace = True)\n",
        "\n",
        "# Adding a SalePrice column to test data to include our predictions that gave best score on Kaggle so far\n",
        "test['SalePrice'] = np.log1p(pseudo['SalePrice'])\n",
        "train[\"SalePrice\"] = np.log1p(train[\"SalePrice\"])\n",
        "\n",
        "# Combining train and test dataset for preprocessing\n",
        "ntrain = train.shape[0]\n",
        "ntest = test.shape[0]\n",
        "all_data = pd.concat((train, test)).reset_index(drop=True)\n",
        "y = train.SalePrice.values\n",
        "y_all = np.expm1(all_data.SalePrice.values)\n",
        "all_data.drop(['SalePrice'], axis=1, inplace=True)"
      ],
      "execution_count": null,
      "outputs": []
    },
    {
      "cell_type": "markdown",
      "metadata": {
        "id": "tWobwuD5x-i7"
      },
      "source": [
        "## Feature Preprocessing and Engineering"
      ]
    },
    {
      "cell_type": "markdown",
      "metadata": {
        "id": "AeVgQm_DyLK4"
      },
      "source": [
        "### Null Values"
      ]
    },
    {
      "cell_type": "code",
      "metadata": {
        "colab": {
          "base_uri": "https://localhost:8080/"
        },
        "id": "FYevWiKSyPCT",
        "outputId": "db013aa9-4b43-49f3-9619-2d4de779e308"
      },
      "source": [
        "null_cols = (all_data.isnull().sum() / len(all_data))\n",
        "null_cols = null_cols.drop(null_cols[null_cols == 0].index).sort_values(ascending=False)[:5]\n",
        "print('Features with most Null Values')\n",
        "print(null_cols)"
      ],
      "execution_count": null,
      "outputs": [
        {
          "output_type": "stream",
          "name": "stdout",
          "text": [
            "Features with most Null Values\n",
            "PoolQC         0.996574\n",
            "MiscFeature    0.964029\n",
            "Alley          0.932169\n",
            "Fence          0.804385\n",
            "FireplaceQu    0.486468\n",
            "dtype: float64\n"
          ]
        }
      ]
    },
    {
      "cell_type": "markdown",
      "metadata": {
        "id": "-hGZLFqX2TkF"
      },
      "source": [
        "The first five features have the most Null values, which can be replaced with appropriate values mentioned in data_description.txt file in Kaggle.\n",
        "\n",
        "NA means 'No Feature' in the case of these columns"
      ]
    },
    {
      "cell_type": "code",
      "metadata": {
        "id": "RRGG9iGs2Fhr"
      },
      "source": [
        "# Replacing NA with None for the first 5 features\n",
        "for col in null_cols.index[:5]:\n",
        "  all_data[col] = all_data[col].fillna(\"None\")\n",
        "\n",
        "# Replacing all remaining null values with mean\n",
        "all_data = all_data.fillna(all_data.mean())"
      ],
      "execution_count": null,
      "outputs": []
    },
    {
      "cell_type": "markdown",
      "metadata": {
        "id": "k-9xklgFiGnt"
      },
      "source": [
        "### Meaningless Features"
      ]
    },
    {
      "cell_type": "code",
      "metadata": {
        "colab": {
          "base_uri": "https://localhost:8080/"
        },
        "id": "-2ZbQHa_hM5X",
        "outputId": "01fd1eca-597f-484e-f1d6-17dcb413625a"
      },
      "source": [
        "# Removing Utilities feature because there is no predictive power\n",
        "print('Utilities Feature distribution')\n",
        "print(all_data.groupby(['Utilities'])['Utilities'].agg(['count']))\n",
        "all_data = all_data.drop(['Utilities'], axis=1)"
      ],
      "execution_count": null,
      "outputs": [
        {
          "output_type": "stream",
          "name": "stdout",
          "text": [
            "Utilities Feature distribution\n",
            "           count\n",
            "Utilities       \n",
            "AllPub      2916\n",
            "NoSeWa         1\n"
          ]
        }
      ]
    },
    {
      "cell_type": "markdown",
      "metadata": {
        "id": "ckePJmrYyViH"
      },
      "source": [
        "### Categorical Variables"
      ]
    },
    {
      "cell_type": "code",
      "metadata": {
        "id": "DUy7Bse2yeZu"
      },
      "source": [
        "# Conversion to categorical features\n",
        "all_data['MSSubClass'] = all_data['MSSubClass'].apply(str)\n",
        "all_data['OverallCond'] = all_data['OverallCond'].astype(str)\n",
        "all_data['YrSold'] = all_data['YrSold'].astype(str)\n",
        "all_data['MoSold'] = all_data['MoSold'].astype(str)"
      ],
      "execution_count": null,
      "outputs": []
    },
    {
      "cell_type": "code",
      "metadata": {
        "id": "9n8gW_EQ8dtV"
      },
      "source": [
        "cols = ('FireplaceQu', 'BsmtQual', 'BsmtCond', 'GarageQual', 'GarageCond', \n",
        "        'ExterQual', 'ExterCond','HeatingQC', 'PoolQC', 'KitchenQual', 'BsmtFinType1', \n",
        "        'BsmtFinType2', 'Functional', 'Fence', 'BsmtExposure', 'GarageFinish', 'LandSlope',\n",
        "        'LotShape', 'PavedDrive', 'Street', 'Alley', 'CentralAir', 'MSSubClass', 'OverallCond', \n",
        "        'YrSold', 'MoSold')\n",
        "\n",
        "# Applying LabelEncoder to categorical features\n",
        "for c in cols:\n",
        "    lbl = LabelEncoder() \n",
        "    lbl.fit(list(all_data[c].values)) \n",
        "    all_data[c] = lbl.transform(list(all_data[c].values))"
      ],
      "execution_count": null,
      "outputs": []
    },
    {
      "cell_type": "markdown",
      "metadata": {
        "id": "iNEnfiyW1oI5"
      },
      "source": [
        "### Additional Feature"
      ]
    },
    {
      "cell_type": "code",
      "metadata": {
        "colab": {
          "base_uri": "https://localhost:8080/",
          "height": 296
        },
        "id": "dzxjzalj1si3",
        "outputId": "bfbb0da0-89b8-4f39-ca52-2f72f55bf303"
      },
      "source": [
        "# Adding a new total sqfootage feature\n",
        "all_data['TotalSF'] = all_data['TotalBsmtSF'] + all_data['1stFlrSF'] + all_data['2ndFlrSF']\n",
        "\n",
        "plt.ylabel('SalePrice')\n",
        "plt.xlabel('TotalSF')\n",
        "plt.scatter(all_data[:ntrain]['TotalSF'], y)"
      ],
      "execution_count": null,
      "outputs": [
        {
          "output_type": "execute_result",
          "data": {
            "text/plain": [
              "<matplotlib.collections.PathCollection at 0x7f2a69e26610>"
            ]
          },
          "metadata": {},
          "execution_count": 9
        },
        {
          "output_type": "display_data",
          "data": {
            "image/png": "[encoded data removed]",
            "text/plain": [
              "<Figure size 432x288 with 1 Axes>"
            ]
          },
          "metadata": {
            "needs_background": "light"
          }
        }
      ]
    },
    {
      "cell_type": "markdown",
      "metadata": {
        "id": "DQjaDeF51va-"
      },
      "source": [
        "### Skewed Features"
      ]
    },
    {
      "cell_type": "code",
      "metadata": {
        "colab": {
          "base_uri": "https://localhost:8080/",
          "height": 238
        },
        "id": "A1rcPTzX1zVV",
        "outputId": "c99c1919-b193-4903-aacd-b098081e3a43"
      },
      "source": [
        "numeric_feats = all_data.dtypes[all_data.dtypes != \"object\"].index\n",
        "\n",
        "# Check the skew of all numerical features\n",
        "skewed_feats = all_data[numeric_feats].apply(lambda x: skew(x.dropna())).sort_values(ascending=False)\n",
        "print(\"Skew in numerical features: \\n\")\n",
        "skewness = pd.DataFrame({'Skew' :skewed_feats})\n",
        "skewness.head(5)"
      ],
      "execution_count": null,
      "outputs": [
        {
          "output_type": "stream",
          "name": "stdout",
          "text": [
            "Skew in numerical features: \n",
            "\n"
          ]
        },
        {
          "output_type": "execute_result",
          "data": {
            "text/html": [
              "<div>\n",
              "<style scoped>\n",
              "    .dataframe tbody tr th:only-of-type {\n",
              "        vertical-align: middle;\n",
              "    }\n",
              "\n",
              "    .dataframe tbody tr th {\n",
              "        vertical-align: top;\n",
              "    }\n",
              "\n",
              "    .dataframe thead th {\n",
              "        text-align: right;\n",
              "    }\n",
              "</style>\n",
              "<table border=\"1\" class=\"dataframe\">\n",
              "  <thead>\n",
              "    <tr style=\"text-align: right;\">\n",
              "      <th></th>\n",
              "      <th>Skew</th>\n",
              "    </tr>\n",
              "  </thead>\n",
              "  <tbody>\n",
              "    <tr>\n",
              "      <th>MiscVal</th>\n",
              "      <td>21.947195</td>\n",
              "    </tr>\n",
              "    <tr>\n",
              "      <th>PoolArea</th>\n",
              "      <td>16.898328</td>\n",
              "    </tr>\n",
              "    <tr>\n",
              "      <th>LotArea</th>\n",
              "      <td>12.822431</td>\n",
              "    </tr>\n",
              "    <tr>\n",
              "      <th>LowQualFinSF</th>\n",
              "      <td>12.088761</td>\n",
              "    </tr>\n",
              "    <tr>\n",
              "      <th>3SsnPorch</th>\n",
              "      <td>11.376065</td>\n",
              "    </tr>\n",
              "  </tbody>\n",
              "</table>\n",
              "</div>"
            ],
            "text/plain": [
              "                   Skew\n",
              "MiscVal       21.947195\n",
              "PoolArea      16.898328\n",
              "LotArea       12.822431\n",
              "LowQualFinSF  12.088761\n",
              "3SsnPorch     11.376065"
            ]
          },
          "metadata": {},
          "execution_count": 10
        }
      ]
    },
    {
      "cell_type": "code",
      "metadata": {
        "colab": {
          "base_uri": "https://localhost:8080/"
        },
        "id": "RMktZ8JQnm0F",
        "outputId": "5a57cad0-0ea5-46fd-8a46-38796948f02c"
      },
      "source": [
        "skewness = skewness[abs(skewness) > 0.75]\n",
        "print(\"There are {} skewed numerical features to Box Cox transform\".format(skewness.shape[0]))\n",
        "\n",
        "skewed_features = skewness.index\n",
        "lam = 0.15\n",
        "for feat in skewed_features:\n",
        "    all_data[feat] = boxcox1p(all_data[feat], lam)"
      ],
      "execution_count": null,
      "outputs": [
        {
          "output_type": "stream",
          "name": "stdout",
          "text": [
            "There are 59 skewed numerical features to Box Cox transform\n"
          ]
        }
      ]
    },
    {
      "cell_type": "markdown",
      "metadata": {
        "id": "wW4Vtye615HW"
      },
      "source": [
        "### Dummy Features"
      ]
    },
    {
      "cell_type": "code",
      "metadata": {
        "id": "ldupv4pD8Z7j"
      },
      "source": [
        "all_data = pd.get_dummies(all_data)"
      ],
      "execution_count": null,
      "outputs": []
    },
    {
      "cell_type": "markdown",
      "metadata": {
        "id": "c7WTEscn2Jjy"
      },
      "source": [
        "### Variance Analysis"
      ]
    },
    {
      "cell_type": "code",
      "metadata": {
        "id": "y5-vgyPMnm88",
        "colab": {
          "base_uri": "https://localhost:8080/"
        },
        "outputId": "bc614626-dcc6-466f-a733-baa7fd1ad50a"
      },
      "source": [
        "train = all_data[:ntrain]\n",
        "test = all_data[ntrain:]\n",
        "\n",
        "# Removing features that have the lowest variance (close to Zero)\n",
        "a = pd.DataFrame(train.var()).sort_values(by=0).head(8)\n",
        "\n",
        "print('Features sorted by Variance')\n",
        "print(a)\n",
        "train = train.drop(a.index, axis=1)\n",
        "test = test.drop(a.index, axis=1)"
      ],
      "execution_count": null,
      "outputs": [
        {
          "output_type": "stream",
          "name": "stdout",
          "text": [
            "Features sorted by Variance\n",
            "                            0\n",
            "Exterior2nd_CBlock   0.000685\n",
            "Exterior1st_CBlock   0.000685\n",
            "MiscFeature_TenC     0.000685\n",
            "Exterior1st_ImStucc  0.000685\n",
            "Condition2_RRAn      0.000685\n",
            "RoofMatl_Roll        0.000685\n",
            "Exterior1st_AsphShn  0.000685\n",
            "RoofMatl_Membran     0.000685\n"
          ]
        }
      ]
    },
    {
      "cell_type": "markdown",
      "metadata": {
        "id": "ivDLTkN22Ynh"
      },
      "source": [
        "### Non-Zero Features"
      ]
    },
    {
      "cell_type": "code",
      "metadata": {
        "colab": {
          "base_uri": "https://localhost:8080/"
        },
        "id": "Byk5N_NQ2aJf",
        "outputId": "6da1dcd0-ac5f-49e7-b55a-3dc9eeb534a1"
      },
      "source": [
        "# Removing 30 features that contain more than 95% Zero's\n",
        "zeros_columns = pd.DataFrame((train == 0).sum(axis=0)/len(train)).sort_values(by=0, ascending=False)\n",
        "a = zeros_columns.head(30)\n",
        "print('Features sorted by Proportion of Zero values')\n",
        "print(zeros_columns.head(5))\n",
        "train = train.drop(a.index, axis=1)\n",
        "test = test.drop(a.index, axis=1)\n",
        "\n",
        "all_data = pd.concat((train, test)).reset_index(drop=True)\n",
        "X_train_new = train.copy()\n",
        "X_test_new = test.copy()"
      ],
      "execution_count": null,
      "outputs": [
        {
          "output_type": "stream",
          "name": "stdout",
          "text": [
            "Features sorted by Proportion of Zero values\n",
            "                          0\n",
            "Exterior2nd_Other  0.999315\n",
            "Condition2_RRAe    0.999315\n",
            "RoofMatl_Metal     0.999315\n",
            "Electrical_Mix     0.999315\n",
            "RoofMatl_ClyTile   0.999315\n"
          ]
        }
      ]
    },
    {
      "cell_type": "markdown",
      "metadata": {
        "id": "7lCRQOIasrnV"
      },
      "source": [
        "## Model Pipelines and Initialization"
      ]
    },
    {
      "cell_type": "markdown",
      "metadata": {
        "id": "YkianWECspeg"
      },
      "source": [
        "### Defining Functions"
      ]
    },
    {
      "cell_type": "code",
      "metadata": {
        "id": "agl8RHm2BxoW"
      },
      "source": [
        "n_folds = 5\n",
        "\n",
        "def rmsle_cv(model):\n",
        "    kf = KFold(n_folds, shuffle=True, random_state=42).get_n_splits(X_train_new.values)\n",
        "    rmse= np.sqrt(-cross_val_score(model, X_train_new.values, y, scoring=\"neg_mean_squared_error\", cv = kf))\n",
        "    return(rmse)\n",
        "\n",
        "def rmsle(y, y_pred):\n",
        "    return np.sqrt(mean_squared_error(y, y_pred))\n",
        "\n",
        "def objective_svr(trial):\n",
        "    params ={\n",
        "        'C': trial.suggest_float('C', 0.0001, 5.0),\n",
        "        'nu':  trial.suggest_float('nu', 0.0, 1.0),\n",
        "    }\n",
        "    model = NuSVR(**params).fit(x_train, y_train)\n",
        "    y_pred = model.predict(x_val)\n",
        "    loss = np.sqrt(mean_squared_error(y_val, y_pred))\n",
        "    return loss"
      ],
      "execution_count": null,
      "outputs": []
    },
    {
      "cell_type": "markdown",
      "metadata": {
        "id": "5SNC-PdYswkO"
      },
      "source": [
        "### Generic Models\n",
        "The model parameters have been optimized"
      ]
    },
    {
      "cell_type": "code",
      "metadata": {
        "id": "ifnj0f4E2mHM"
      },
      "source": [
        "lasso = make_pipeline(RobustScaler(), Lasso(alpha =0.0005, random_state=1))\n",
        "ENet = make_pipeline(RobustScaler(), ElasticNet(alpha=0.0005, l1_ratio=.9, random_state=3))\n",
        "KRR = KernelRidge(alpha=0.6, kernel='polynomial', degree=2)\n",
        "GBoost = GradientBoostingRegressor(n_estimators=3000, learning_rate=0.05, max_depth=4, max_features='sqrt', random_state =5)\n",
        "model_xgb = xgb.XGBRegressor(colsample_bytree=0.45, gamma=0.045, learning_rate=0.05, max_depth=3, n_estimators=2500, subsample=0.5, silent=1, nthread = -1)\n",
        "model_lgb = lgb.LGBMRegressor(objective='regression',num_leaves=5, learning_rate=0.05, n_estimators=950, bagging_fraction = 0.8, bagging_freq = 5, feature_fraction = 0.23)"
      ],
      "execution_count": null,
      "outputs": []
    },
    {
      "cell_type": "markdown",
      "metadata": {
        "id": "7iJLZNyc-Ug_"
      },
      "source": [
        "### NuSVR"
      ]
    },
    {
      "cell_type": "markdown",
      "metadata": {
        "id": "JEBLg7Cm-sVd"
      },
      "source": [
        "#### Data Normalization"
      ]
    },
    {
      "cell_type": "code",
      "metadata": {
        "id": "NbGqxnQa-Ynv"
      },
      "source": [
        "x_train, x_val, y_train, y_val = train_test_split(all_data, y_all, test_size = 0.1, random_state=0)\n",
        "\n",
        "scaler_x = MinMaxScaler()\n",
        "scaler_y = StandardScaler()\n",
        "\n",
        "scaler_x.fit(x_train)\n",
        "x_train = scaler_x.transform(x_train)\n",
        "x_val = scaler_x.transform(x_val)\n",
        "test = scaler_x.transform(test)\n",
        "\n",
        "scaler_y.fit(y_train.reshape(-1, 1))\n",
        "y_train = scaler_y.transform(y_train.reshape(-1, 1)).ravel()\n",
        "y_val = scaler_y.transform(y_val.reshape(-1, 1)).ravel()"
      ],
      "execution_count": null,
      "outputs": []
    },
    {
      "cell_type": "markdown",
      "metadata": {
        "id": "JeialrMS--c1"
      },
      "source": [
        "#### Parameter Optimization"
      ]
    },
    {
      "cell_type": "code",
      "metadata": {
        "colab": {
          "base_uri": "https://localhost:8080/"
        },
        "id": "dSr4i9XQ-_8t",
        "outputId": "b0c90909-4b51-4300-fb75-cdfbc2d95681"
      },
      "source": [
        "study = optuna.create_study(sampler=optuna.samplers.TPESampler(seed=123), direction=\"minimize\", pruner=optuna.pruners.HyperbandPruner())\n",
        "study.optimize(objective_svr, n_trials=250)"
      ],
      "execution_count": null,
      "outputs": [
        {
          "output_type": "stream",
          "name": "stderr",
          "text": [
            "\u001b[32m[I 2021-09-26 18:17:08,646]\u001b[0m A new study created in memory with name: no-name-906aad5f-bce7-4512-8236-88388a598048\u001b[0m\n",
            "\u001b[32m[I 2021-09-26 18:17:11,369]\u001b[0m Trial 0 finished with value: 0.21537217634065983 and parameters: {'C': 3.482376281070749, 'nu': 0.28613933495037946}. Best is trial 0 with value: 0.21537217634065983.\u001b[0m\n",
            "\u001b[32m[I 2021-09-26 18:17:14,011]\u001b[0m Trial 1 finished with value: 0.2225311262912958 and parameters: {'C': 1.1343345826756592, 'nu': 0.5513147690828912}. Best is trial 0 with value: 0.21537217634065983.\u001b[0m\n",
            "\u001b[32m[I 2021-09-26 18:17:18,394]\u001b[0m Trial 2 finished with value: 0.20957862176507305 and parameters: {'C': 3.597372902030837, 'nu': 0.42310646012446096}. Best is trial 2 with value: 0.20957862176507305.\u001b[0m\n",
            "\u001b[32m[I 2021-09-26 18:17:27,954]\u001b[0m Trial 3 finished with value: 0.20835367152449882 and parameters: {'C': 4.903822915503239, 'nu': 0.6848297385848633}. Best is trial 3 with value: 0.20835367152449882.\u001b[0m\n",
            "\u001b[32m[I 2021-09-26 18:17:30,946]\u001b[0m Trial 4 finished with value: 0.21539563348069693 and parameters: {'C': 2.4047114142316564, 'nu': 0.3921175181941505}. Best is trial 3 with value: 0.20835367152449882.\u001b[0m\n",
            "\u001b[32m[I 2021-09-26 18:17:36,380]\u001b[0m Trial 5 finished with value: 0.2161643210397813 and parameters: {'C': 1.715955762952732, 'nu': 0.7290497073840416}. Best is trial 3 with value: 0.20835367152449882.\u001b[0m\n",
            "\u001b[32m[I 2021-09-26 18:17:36,903]\u001b[0m Trial 6 finished with value: 0.2874961944226868 and parameters: {'C': 2.1929173661736545, 'nu': 0.05967789660956835}. Best is trial 3 with value: 0.20835367152449882.\u001b[0m\n",
            "\u001b[32m[I 2021-09-26 18:17:42,776]\u001b[0m Trial 7 finished with value: 0.2143061222458912 and parameters: {'C': 1.9902814722266242, 'nu': 0.7379954057320357}. Best is trial 3 with value: 0.20835367152449882.\u001b[0m\n",
            "\u001b[32m[I 2021-09-26 18:17:43,676]\u001b[0m Trial 8 finished with value: 0.2575921110092653 and parameters: {'C': 0.9125404030944546, 'nu': 0.17545175614749253}. Best is trial 3 with value: 0.20835367152449882.\u001b[0m\n",
            "\u001b[32m[I 2021-09-26 18:17:48,138]\u001b[0m Trial 9 finished with value: 0.21034702026455313 and parameters: {'C': 2.657803714071808, 'nu': 0.5318275870968661}. Best is trial 3 with value: 0.20835367152449882.\u001b[0m\n",
            "\u001b[32m[I 2021-09-26 18:17:54,422]\u001b[0m Trial 10 finished with value: 0.20837018728387957 and parameters: {'C': 4.921775405247818, 'nu': 0.9951348606844201}. Best is trial 3 with value: 0.20835367152449882.\u001b[0m\n",
            "\u001b[32m[I 2021-09-26 18:18:00,753]\u001b[0m Trial 11 finished with value: 0.20843862236704555 and parameters: {'C': 4.973041778518365, 'nu': 0.973213692592481}. Best is trial 3 with value: 0.20835367152449882.\u001b[0m\n",
            "\u001b[32m[I 2021-09-26 18:18:06,996]\u001b[0m Trial 12 finished with value: 0.20838318208250448 and parameters: {'C': 4.9405436357267085, 'nu': 0.9687485406819452}. Best is trial 3 with value: 0.20835367152449882.\u001b[0m\n",
            "\u001b[32m[I 2021-09-26 18:18:14,485]\u001b[0m Trial 13 finished with value: 0.20819627259789777 and parameters: {'C': 4.030335665259603, 'nu': 0.7698565168879186}. Best is trial 13 with value: 0.20819627259789777.\u001b[0m\n",
            "\u001b[32m[I 2021-09-26 18:18:22,659]\u001b[0m Trial 14 finished with value: 0.20819624054626595 and parameters: {'C': 4.040445739454383, 'nu': 0.7361405881381723}. Best is trial 14 with value: 0.20819624054626595.\u001b[0m\n",
            "\u001b[32m[I 2021-09-26 18:18:29,652]\u001b[0m Trial 15 finished with value: 0.20843265366119743 and parameters: {'C': 3.6812502507117975, 'nu': 0.8305284047632934}. Best is trial 14 with value: 0.20819624054626595.\u001b[0m\n",
            "\u001b[32m[I 2021-09-26 18:18:36,897]\u001b[0m Trial 16 finished with value: 0.20818914280626225 and parameters: {'C': 4.185843272004464, 'nu': 0.8349728840202915}. Best is trial 16 with value: 0.20818914280626225.\u001b[0m\n",
            "\u001b[32m[I 2021-09-26 18:18:39,415]\u001b[0m Trial 17 finished with value: 0.3090560718776949 and parameters: {'C': 0.14771028216606563, 'nu': 0.8750464317015422}. Best is trial 16 with value: 0.20818914280626225.\u001b[0m\n",
            "\u001b[32m[I 2021-09-26 18:18:50,286]\u001b[0m Trial 18 finished with value: 0.20817350876993254 and parameters: {'C': 4.200692730514872, 'nu': 0.6310526478930011}. Best is trial 18 with value: 0.20817350876993254.\u001b[0m\n",
            "\u001b[32m[I 2021-09-26 18:18:56,322]\u001b[0m Trial 19 finished with value: 0.20974250628574956 and parameters: {'C': 2.8760203654007253, 'nu': 0.5868580413107205}. Best is trial 18 with value: 0.20817350876993254.\u001b[0m\n",
            "\u001b[32m[I 2021-09-26 18:19:05,932]\u001b[0m Trial 20 finished with value: 0.20954216069980833 and parameters: {'C': 3.128939509327982, 'nu': 0.6287913078433677}. Best is trial 18 with value: 0.20817350876993254.\u001b[0m\n",
            "\u001b[32m[I 2021-09-26 18:19:12,652]\u001b[0m Trial 21 finished with value: 0.20819448534891402 and parameters: {'C': 4.093173767707185, 'nu': 0.8564561220506784}. Best is trial 18 with value: 0.20817350876993254.\u001b[0m\n",
            "\u001b[32m[I 2021-09-26 18:19:19,481]\u001b[0m Trial 22 finished with value: 0.2081701691235888 and parameters: {'C': 4.3433141386296255, 'nu': 0.8591861997294118}. Best is trial 22 with value: 0.2081701691235888.\u001b[0m\n",
            "\u001b[32m[I 2021-09-26 18:19:26,015]\u001b[0m Trial 23 finished with value: 0.2081638174336996 and parameters: {'C': 4.421540795450115, 'nu': 0.8808448367567698}. Best is trial 23 with value: 0.2081638174336996.\u001b[0m\n",
            "\u001b[32m[I 2021-09-26 18:19:32,268]\u001b[0m Trial 24 finished with value: 0.20813046384045428 and parameters: {'C': 4.597508592644365, 'nu': 0.4513077751353166}. Best is trial 24 with value: 0.20813046384045428.\u001b[0m\n",
            "\u001b[32m[I 2021-09-26 18:19:37,409]\u001b[0m Trial 25 finished with value: 0.20870246449680652 and parameters: {'C': 4.62171518455669, 'nu': 0.4050857311021882}. Best is trial 24 with value: 0.20813046384045428.\u001b[0m\n",
            "\u001b[32m[I 2021-09-26 18:19:41,252]\u001b[0m Trial 26 finished with value: 0.2118639877868423 and parameters: {'C': 4.498456272666932, 'nu': 0.32436144166595693}. Best is trial 24 with value: 0.20813046384045428.\u001b[0m\n",
            "\u001b[32m[I 2021-09-26 18:19:45,673]\u001b[0m Trial 27 finished with value: 0.2094869893612134 and parameters: {'C': 3.180095332188478, 'nu': 0.46816312443798747}. Best is trial 24 with value: 0.20813046384045428.\u001b[0m\n",
            "\u001b[32m[I 2021-09-26 18:19:51,994]\u001b[0m Trial 28 finished with value: 0.20816696287238284 and parameters: {'C': 4.46030149492286, 'nu': 0.9162078083291321}. Best is trial 24 with value: 0.20813046384045428.\u001b[0m\n",
            "\u001b[32m[I 2021-09-26 18:19:55,364]\u001b[0m Trial 29 finished with value: 0.21265124160131746 and parameters: {'C': 3.7259776094852173, 'nu': 0.32933404546071754}. Best is trial 24 with value: 0.20813046384045428.\u001b[0m\n",
            "\u001b[32m[I 2021-09-26 18:19:57,542]\u001b[0m Trial 30 finished with value: 0.2192204697995987 and parameters: {'C': 3.3925083759058503, 'nu': 0.23418511529997932}. Best is trial 24 with value: 0.20813046384045428.\u001b[0m\n",
            "\u001b[32m[I 2021-09-26 18:20:03,956]\u001b[0m Trial 31 finished with value: 0.20819775368425344 and parameters: {'C': 4.555607772088302, 'nu': 0.9143319847968668}. Best is trial 24 with value: 0.20813046384045428.\u001b[0m\n",
            "\u001b[32m[I 2021-09-26 18:20:10,228]\u001b[0m Trial 32 finished with value: 0.20816304181409312 and parameters: {'C': 4.465805617475554, 'nu': 0.9161648679709198}. Best is trial 24 with value: 0.20813046384045428.\u001b[0m\n",
            "\u001b[32m[I 2021-09-26 18:20:16,249]\u001b[0m Trial 33 finished with value: 0.20831076778238924 and parameters: {'C': 3.818368820375457, 'nu': 0.9166239627120789}. Best is trial 24 with value: 0.20813046384045428.\u001b[0m\n",
            "\u001b[32m[I 2021-09-26 18:20:23,992]\u001b[0m Trial 34 finished with value: 0.2082254126981193 and parameters: {'C': 4.6014933753317955, 'nu': 0.8017137868534586}. Best is trial 24 with value: 0.20813046384045428.\u001b[0m\n",
            "\u001b[32m[I 2021-09-26 18:20:33,224]\u001b[0m Trial 35 finished with value: 0.20888044575391693 and parameters: {'C': 3.4041841262870585, 'nu': 0.6664109187557898}. Best is trial 24 with value: 0.20813046384045428.\u001b[0m\n",
            "\u001b[32m[I 2021-09-26 18:20:40,506]\u001b[0m Trial 36 finished with value: 0.20819716726916918 and parameters: {'C': 4.671594066492702, 'nu': 0.47318065912094065}. Best is trial 24 with value: 0.20813046384045428.\u001b[0m\n",
            "\u001b[32m[I 2021-09-26 18:20:46,515]\u001b[0m Trial 37 finished with value: 0.2082456161083766 and parameters: {'C': 3.8933645408266355, 'nu': 0.9191854586801484}. Best is trial 24 with value: 0.20813046384045428.\u001b[0m\n",
            "\u001b[32m[I 2021-09-26 18:20:58,594]\u001b[0m Trial 38 finished with value: 0.20814988600875925 and parameters: {'C': 4.436012841685823, 'nu': 0.5548382425186095}. Best is trial 24 with value: 0.20813046384045428.\u001b[0m\n",
            "\u001b[32m[I 2021-09-26 18:20:59,487]\u001b[0m Trial 39 finished with value: 0.2542884546399982 and parameters: {'C': 1.2990208478642198, 'nu': 0.1487345248644112}. Best is trial 24 with value: 0.20813046384045428.\u001b[0m\n",
            "\u001b[32m[I 2021-09-26 18:21:12,361]\u001b[0m Trial 40 finished with value: 0.20824506596820055 and parameters: {'C': 4.706499482059308, 'nu': 0.539614768764816}. Best is trial 24 with value: 0.20813046384045428.\u001b[0m\n",
            "\u001b[32m[I 2021-09-26 18:21:21,367]\u001b[0m Trial 41 finished with value: 0.20817040856153007 and parameters: {'C': 4.361575358747528, 'nu': 0.7015393276856416}. Best is trial 24 with value: 0.20813046384045428.\u001b[0m\n",
            "\u001b[32m[I 2021-09-26 18:21:27,399]\u001b[0m Trial 42 finished with value: 0.20817109628460645 and parameters: {'C': 4.3205600243498035, 'nu': 0.9275686236845815}. Best is trial 24 with value: 0.20813046384045428.\u001b[0m\n",
            "\u001b[32m[I 2021-09-26 18:21:35,282]\u001b[0m Trial 43 finished with value: 0.2083027696443009 and parameters: {'C': 4.788467044534471, 'nu': 0.7764604614239343}. Best is trial 24 with value: 0.20813046384045428.\u001b[0m\n",
            "\u001b[32m[I 2021-09-26 18:21:40,311]\u001b[0m Trial 44 finished with value: 0.20835080809608272 and parameters: {'C': 3.9235162724382477, 'nu': 0.4508971185609417}. Best is trial 24 with value: 0.20813046384045428.\u001b[0m\n",
            "\u001b[32m[I 2021-09-26 18:21:40,710]\u001b[0m Trial 45 finished with value: 0.30216593119783713 and parameters: {'C': 4.305294872168586, 'nu': 0.02964881603489733}. Best is trial 24 with value: 0.20813046384045428.\u001b[0m\n",
            "\u001b[32m[I 2021-09-26 18:21:44,252]\u001b[0m Trial 46 finished with value: 0.2120836896357484 and parameters: {'C': 3.5688921171978536, 'nu': 0.3571175973818518}. Best is trial 24 with value: 0.20813046384045428.\u001b[0m\n",
            "\u001b[32m[I 2021-09-26 18:21:47,310]\u001b[0m Trial 47 finished with value: 0.2159583328052643 and parameters: {'C': 4.972742197315468, 'nu': 0.2458691245776145}. Best is trial 24 with value: 0.20813046384045428.\u001b[0m\n",
            "\u001b[32m[I 2021-09-26 18:21:52,224]\u001b[0m Trial 48 finished with value: 0.21204941857297133 and parameters: {'C': 2.469538606390509, 'nu': 0.9611760364546388}. Best is trial 24 with value: 0.20813046384045428.\u001b[0m\n",
            "\u001b[32m[I 2021-09-26 18:21:58,234]\u001b[0m Trial 49 finished with value: 0.20816530365700373 and parameters: {'C': 4.455490280182731, 'nu': 0.9898112655989701}. Best is trial 24 with value: 0.20813046384045428.\u001b[0m\n",
            "\u001b[32m[I 2021-09-26 18:22:02,592]\u001b[0m Trial 50 finished with value: 0.21419914584584998 and parameters: {'C': 2.0224589160652764, 'nu': 0.9917163158557115}. Best is trial 24 with value: 0.20813046384045428.\u001b[0m\n",
            "\u001b[32m[I 2021-09-26 18:22:08,670]\u001b[0m Trial 51 finished with value: 0.2081665349820032 and parameters: {'C': 4.43858072273063, 'nu': 0.9479886951787528}. Best is trial 24 with value: 0.20813046384045428.\u001b[0m\n",
            "\u001b[32m[I 2021-09-26 18:22:15,378]\u001b[0m Trial 52 finished with value: 0.20831481950943959 and parameters: {'C': 4.825330498157276, 'nu': 0.8806959722702539}. Best is trial 24 with value: 0.20813046384045428.\u001b[0m\n",
            "\u001b[32m[I 2021-09-26 18:22:22,192]\u001b[0m Trial 53 finished with value: 0.2079638814937936 and parameters: {'C': 3.918397490759653, 'nu': 0.5160857340220619}. Best is trial 53 with value: 0.2079638814937936.\u001b[0m\n",
            "\u001b[32m[I 2021-09-26 18:22:30,172]\u001b[0m Trial 54 finished with value: 0.20803451947850704 and parameters: {'C': 4.116819980613548, 'nu': 0.520753178432217}. Best is trial 53 with value: 0.2079638814937936.\u001b[0m\n",
            "\u001b[32m[I 2021-09-26 18:22:37,154]\u001b[0m Trial 55 finished with value: 0.20798706593971117 and parameters: {'C': 4.041434770761984, 'nu': 0.5069360889838741}. Best is trial 53 with value: 0.2079638814937936.\u001b[0m\n",
            "\u001b[32m[I 2021-09-26 18:22:48,774]\u001b[0m Trial 56 finished with value: 0.2081760454035634 and parameters: {'C': 4.210312420651815, 'nu': 0.5757135035252451}. Best is trial 53 with value: 0.2079638814937936.\u001b[0m\n",
            "\u001b[32m[I 2021-09-26 18:22:55,119]\u001b[0m Trial 57 finished with value: 0.2079963483265139 and parameters: {'C': 4.104654030126544, 'nu': 0.49047901491095974}. Best is trial 53 with value: 0.2079638814937936.\u001b[0m\n",
            "\u001b[32m[I 2021-09-26 18:23:02,053]\u001b[0m Trial 58 finished with value: 0.207990789309529 and parameters: {'C': 3.979355946272907, 'nu': 0.5105413012446975}. Best is trial 53 with value: 0.2079638814937936.\u001b[0m\n",
            "\u001b[32m[I 2021-09-26 18:23:09,070]\u001b[0m Trial 59 finished with value: 0.20798815986239583 and parameters: {'C': 4.0290433354890585, 'nu': 0.5117582334451845}. Best is trial 53 with value: 0.2079638814937936.\u001b[0m\n",
            "\u001b[32m[I 2021-09-26 18:23:13,680]\u001b[0m Trial 60 finished with value: 0.20903698967915496 and parameters: {'C': 3.0744575082321504, 'nu': 0.5061910656959935}. Best is trial 53 with value: 0.2079638814937936.\u001b[0m\n",
            "\u001b[32m[I 2021-09-26 18:23:23,999]\u001b[0m Trial 61 finished with value: 0.20819457621364146 and parameters: {'C': 4.038240663183431, 'nu': 0.6094294745300846}. Best is trial 53 with value: 0.2079638814937936.\u001b[0m\n",
            "\u001b[32m[I 2021-09-26 18:23:28,302]\u001b[0m Trial 62 finished with value: 0.2093449053304436 and parameters: {'C': 3.6430094080293403, 'nu': 0.4262274244549738}. Best is trial 53 with value: 0.2079638814937936.\u001b[0m\n",
            "\u001b[32m[I 2021-09-26 18:23:34,812]\u001b[0m Trial 63 finished with value: 0.20797224111317072 and parameters: {'C': 3.8512445981015113, 'nu': 0.5126287278109457}. Best is trial 53 with value: 0.2079638814937936.\u001b[0m\n",
            "\u001b[32m[I 2021-09-26 18:23:39,854]\u001b[0m Trial 64 finished with value: 0.20847021335332996 and parameters: {'C': 3.3050710762660938, 'nu': 0.5056492157325441}. Best is trial 53 with value: 0.2079638814937936.\u001b[0m\n",
            "\u001b[32m[I 2021-09-26 18:23:42,949]\u001b[0m Trial 65 finished with value: 0.21418324755585716 and parameters: {'C': 2.807976090468266, 'nu': 0.3731162223909325}. Best is trial 53 with value: 0.2079638814937936.\u001b[0m\n",
            "\u001b[32m[I 2021-09-26 18:23:49,148]\u001b[0m Trial 66 finished with value: 0.207966378797186 and parameters: {'C': 3.7722664847057943, 'nu': 0.5121870054537566}. Best is trial 53 with value: 0.2079638814937936.\u001b[0m\n",
            "\u001b[32m[I 2021-09-26 18:23:54,578]\u001b[0m Trial 67 finished with value: 0.20801706954411092 and parameters: {'C': 3.7580258808608873, 'nu': 0.48221601770701944}. Best is trial 53 with value: 0.2079638814937936.\u001b[0m\n",
            "\u001b[32m[I 2021-09-26 18:24:05,623]\u001b[0m Trial 68 finished with value: 0.2082032390326789 and parameters: {'C': 3.9415868844111466, 'nu': 0.5726737537580677}. Best is trial 53 with value: 0.2079638814937936.\u001b[0m\n",
            "\u001b[32m[I 2021-09-26 18:24:15,508]\u001b[0m Trial 69 finished with value: 0.20855284215182146 and parameters: {'C': 3.58735297752627, 'nu': 0.6474719869803637}. Best is trial 53 with value: 0.2079638814937936.\u001b[0m\n",
            "\u001b[32m[I 2021-09-26 18:24:19,687]\u001b[0m Trial 70 finished with value: 0.21017099721908888 and parameters: {'C': 3.476304081274115, 'nu': 0.4159273754105376}. Best is trial 53 with value: 0.2079638814937936.\u001b[0m\n",
            "\u001b[32m[I 2021-09-26 18:24:25,758]\u001b[0m Trial 71 finished with value: 0.20797612781382296 and parameters: {'C': 3.7740455421673436, 'nu': 0.4863264243665401}. Best is trial 53 with value: 0.2079638814937936.\u001b[0m\n",
            "\u001b[32m[I 2021-09-26 18:24:30,804]\u001b[0m Trial 72 finished with value: 0.20863900533725885 and parameters: {'C': 3.816529502839167, 'nu': 0.44269756838922036}. Best is trial 53 with value: 0.2079638814937936.\u001b[0m\n",
            "\u001b[32m[I 2021-09-26 18:24:42,010]\u001b[0m Trial 73 finished with value: 0.20819901482285982 and parameters: {'C': 3.9840070799313305, 'nu': 0.6027774544752764}. Best is trial 53 with value: 0.2079638814937936.\u001b[0m\n",
            "\u001b[32m[I 2021-09-26 18:24:48,258]\u001b[0m Trial 74 finished with value: 0.20856948203052425 and parameters: {'C': 3.2629011470358322, 'nu': 0.5457079009984206}. Best is trial 53 with value: 0.2079638814937936.\u001b[0m\n",
            "\u001b[32m[I 2021-09-26 18:24:52,982]\u001b[0m Trial 75 finished with value: 0.20959734110460507 and parameters: {'C': 3.0006527845955713, 'nu': 0.49127769976500774}. Best is trial 53 with value: 0.2079638814937936.\u001b[0m\n",
            "\u001b[32m[I 2021-09-26 18:24:57,591]\u001b[0m Trial 76 finished with value: 0.20957986774040993 and parameters: {'C': 4.246659922829519, 'nu': 0.3818504647742105}. Best is trial 53 with value: 0.2079638814937936.\u001b[0m\n",
            "\u001b[32m[I 2021-09-26 18:24:59,425]\u001b[0m Trial 77 finished with value: 0.29049588358288075 and parameters: {'C': 0.2044015483763406, 'nu': 0.5172290216866116}. Best is trial 53 with value: 0.2079638814937936.\u001b[0m\n",
            "\u001b[32m[I 2021-09-26 18:25:11,934]\u001b[0m Trial 78 finished with value: 0.20817907682154224 and parameters: {'C': 4.149084363459397, 'nu': 0.5479854418114153}. Best is trial 53 with value: 0.2079638814937936.\u001b[0m\n",
            "\u001b[32m[I 2021-09-26 18:25:17,341]\u001b[0m Trial 79 finished with value: 0.20818511278778232 and parameters: {'C': 3.7185695022446854, 'nu': 0.4737558875132198}. Best is trial 53 with value: 0.2079638814937936.\u001b[0m\n",
            "\u001b[32m[I 2021-09-26 18:25:22,134]\u001b[0m Trial 80 finished with value: 0.20891685959351322 and parameters: {'C': 3.8304868077176453, 'nu': 0.426589311363907}. Best is trial 53 with value: 0.2079638814937936.\u001b[0m\n",
            "\u001b[32m[I 2021-09-26 18:25:27,717]\u001b[0m Trial 81 finished with value: 0.20818983216650352 and parameters: {'C': 3.7208886549612457, 'nu': 0.4726594572728247}. Best is trial 53 with value: 0.2079638814937936.\u001b[0m\n",
            "\u001b[32m[I 2021-09-26 18:25:33,444]\u001b[0m Trial 82 finished with value: 0.20824057612568206 and parameters: {'C': 3.5166286003426155, 'nu': 0.4870804793608103}. Best is trial 53 with value: 0.2079638814937936.\u001b[0m\n",
            "\u001b[32m[I 2021-09-26 18:25:45,467]\u001b[0m Trial 83 finished with value: 0.2081897335855552 and parameters: {'C': 4.051716520890292, 'nu': 0.5697507881308771}. Best is trial 53 with value: 0.2079638814937936.\u001b[0m\n",
            "\u001b[32m[I 2021-09-26 18:25:56,740]\u001b[0m Trial 84 finished with value: 0.20827603786166862 and parameters: {'C': 3.8437712323129793, 'nu': 0.60837708830181}. Best is trial 53 with value: 0.2079638814937936.\u001b[0m\n",
            "\u001b[32m[I 2021-09-26 18:26:01,332]\u001b[0m Trial 85 finished with value: 0.2094743256682882 and parameters: {'C': 3.3205071055163984, 'nu': 0.45210940314625714}. Best is trial 53 with value: 0.2079638814937936.\u001b[0m\n",
            "\u001b[32m[I 2021-09-26 18:26:05,435]\u001b[0m Trial 86 finished with value: 0.21082031271266374 and parameters: {'C': 3.443179956937067, 'nu': 0.40061037194762894}. Best is trial 53 with value: 0.2079638814937936.\u001b[0m\n",
            "\u001b[32m[I 2021-09-26 18:26:12,471]\u001b[0m Trial 87 finished with value: 0.20804146814355623 and parameters: {'C': 3.6705163751210423, 'nu': 0.5297705924338519}. Best is trial 53 with value: 0.2079638814937936.\u001b[0m\n",
            "\u001b[32m[I 2021-09-26 18:26:16,245]\u001b[0m Trial 88 finished with value: 0.21224039024768407 and parameters: {'C': 4.0034568215829545, 'nu': 0.3282523268953885}. Best is trial 53 with value: 0.2079638814937936.\u001b[0m\n",
            "\u001b[32m[I 2021-09-26 18:26:23,280]\u001b[0m Trial 89 finished with value: 0.20800639255876324 and parameters: {'C': 4.189249077285842, 'nu': 0.49315697463622304}. Best is trial 53 with value: 0.2079638814937936.\u001b[0m\n",
            "\u001b[32m[I 2021-09-26 18:26:33,982]\u001b[0m Trial 90 finished with value: 0.20818474722307884 and parameters: {'C': 4.173049083471933, 'nu': 0.6359340388106722}. Best is trial 53 with value: 0.2079638814937936.\u001b[0m\n",
            "\u001b[32m[I 2021-09-26 18:26:41,101]\u001b[0m Trial 91 finished with value: 0.20799460376791803 and parameters: {'C': 3.8843866978300836, 'nu': 0.5128612466012968}. Best is trial 53 with value: 0.2079638814937936.\u001b[0m\n",
            "\u001b[32m[I 2021-09-26 18:26:48,042]\u001b[0m Trial 92 finished with value: 0.20796202812782413 and parameters: {'C': 3.9272567437909394, 'nu': 0.510453715654489}. Best is trial 92 with value: 0.20796202812782413.\u001b[0m\n",
            "\u001b[32m[I 2021-09-26 18:26:56,021]\u001b[0m Trial 93 finished with value: 0.2080292214377306 and parameters: {'C': 3.9538379668074732, 'nu': 0.5275685463362633}. Best is trial 92 with value: 0.20796202812782413.\u001b[0m\n",
            "\u001b[32m[I 2021-09-26 18:27:08,353]\u001b[0m Trial 94 finished with value: 0.208167529026967 and parameters: {'C': 4.3077123073412675, 'nu': 0.5519595397414401}. Best is trial 92 with value: 0.20796202812782413.\u001b[0m\n",
            "\u001b[32m[I 2021-09-26 18:27:13,081]\u001b[0m Trial 95 finished with value: 0.20875553561609808 and parameters: {'C': 3.6001152147780804, 'nu': 0.45077088620412564}. Best is trial 92 with value: 0.20796202812782413.\u001b[0m\n",
            "\u001b[32m[I 2021-09-26 18:27:23,884]\u001b[0m Trial 96 finished with value: 0.20824252363426632 and parameters: {'C': 3.8973057407357805, 'nu': 0.5941860780241383}. Best is trial 92 with value: 0.20796202812782413.\u001b[0m\n",
            "\u001b[32m[I 2021-09-26 18:27:26,835]\u001b[0m Trial 97 finished with value: 0.2153910531047503 and parameters: {'C': 1.6420687834515124, 'nu': 0.5036429821657935}. Best is trial 92 with value: 0.20796202812782413.\u001b[0m\n",
            "\u001b[32m[I 2021-09-26 18:27:38,504]\u001b[0m Trial 98 finished with value: 0.20818457406983368 and parameters: {'C': 4.079997317197775, 'nu': 0.5742994472254932}. Best is trial 92 with value: 0.20796202812782413.\u001b[0m\n",
            "\u001b[32m[I 2021-09-26 18:27:42,376]\u001b[0m Trial 99 finished with value: 0.21155011996597445 and parameters: {'C': 3.7790985190560202, 'nu': 0.3556468084504747}. Best is trial 92 with value: 0.20796202812782413.\u001b[0m\n",
            "\u001b[32m[I 2021-09-26 18:27:51,821]\u001b[0m Trial 100 finished with value: 0.20817701190434199 and parameters: {'C': 4.288633638814613, 'nu': 0.6812414481477351}. Best is trial 92 with value: 0.20796202812782413.\u001b[0m\n",
            "\u001b[32m[I 2021-09-26 18:27:58,866]\u001b[0m Trial 101 finished with value: 0.20801370985331383 and parameters: {'C': 4.194827174350945, 'nu': 0.49586657923268174}. Best is trial 92 with value: 0.20796202812782413.\u001b[0m\n",
            "\u001b[32m[I 2021-09-26 18:28:06,912]\u001b[0m Trial 102 finished with value: 0.20804186584794054 and parameters: {'C': 4.095442746729406, 'nu': 0.5212321103119063}. Best is trial 92 with value: 0.20796202812782413.\u001b[0m\n",
            "\u001b[32m[I 2021-09-26 18:28:11,837]\u001b[0m Trial 103 finished with value: 0.20876081707532557 and parameters: {'C': 3.8679962320932493, 'nu': 0.4323195651751767}. Best is trial 92 with value: 0.20796202812782413.\u001b[0m\n",
            "\u001b[32m[I 2021-09-26 18:28:18,390]\u001b[0m Trial 104 finished with value: 0.20812362400420478 and parameters: {'C': 4.550774951209889, 'nu': 0.45622508866195316}. Best is trial 92 with value: 0.20796202812782413.\u001b[0m\n",
            "\u001b[32m[I 2021-09-26 18:28:30,393]\u001b[0m Trial 105 finished with value: 0.2081945658409225 and parameters: {'C': 3.976375489217189, 'nu': 0.5611733350655229}. Best is trial 92 with value: 0.20796202812782413.\u001b[0m\n",
            "\u001b[32m[I 2021-09-26 18:28:37,514]\u001b[0m Trial 106 finished with value: 0.2081067141774818 and parameters: {'C': 3.6619624641030377, 'nu': 0.5374685184065408}. Best is trial 92 with value: 0.20796202812782413.\u001b[0m\n",
            "\u001b[32m[I 2021-09-26 18:28:43,198]\u001b[0m Trial 107 finished with value: 0.20806690965323235 and parameters: {'C': 3.521403181124411, 'nu': 0.5051548533531977}. Best is trial 92 with value: 0.20796202812782413.\u001b[0m\n",
            "\u001b[32m[I 2021-09-26 18:28:50,545]\u001b[0m Trial 108 finished with value: 0.20819358802206694 and parameters: {'C': 4.7137199595373085, 'nu': 0.4653767852194544}. Best is trial 92 with value: 0.20796202812782413.\u001b[0m\n",
            "\u001b[32m[I 2021-09-26 18:28:57,584]\u001b[0m Trial 109 finished with value: 0.2080295264448454 and parameters: {'C': 4.352153913797091, 'nu': 0.48214225951529166}. Best is trial 92 with value: 0.20796202812782413.\u001b[0m\n",
            "\u001b[32m[I 2021-09-26 18:29:02,389]\u001b[0m Trial 110 finished with value: 0.20903925195981693 and parameters: {'C': 4.139211890368951, 'nu': 0.4044848221428566}. Best is trial 92 with value: 0.20796202812782413.\u001b[0m\n",
            "\u001b[32m[I 2021-09-26 18:29:10,273]\u001b[0m Trial 111 finished with value: 0.20798264781983114 and parameters: {'C': 4.229006607478441, 'nu': 0.510613601572808}. Best is trial 92 with value: 0.20796202812782413.\u001b[0m\n",
            "\u001b[32m[I 2021-09-26 18:29:21,834]\u001b[0m Trial 112 finished with value: 0.20820159596700813 and parameters: {'C': 4.025464734192136, 'nu': 0.5869197779072103}. Best is trial 92 with value: 0.20796202812782413.\u001b[0m\n",
            "\u001b[32m[I 2021-09-26 18:29:25,552]\u001b[0m Trial 113 finished with value: 0.21298373163728138 and parameters: {'C': 2.2460776832178384, 'nu': 0.5119015484525733}. Best is trial 92 with value: 0.20796202812782413.\u001b[0m\n",
            "\u001b[32m[I 2021-09-26 18:29:38,623]\u001b[0m Trial 114 finished with value: 0.208169328632683 and parameters: {'C': 4.2626704020997295, 'nu': 0.5363687102708602}. Best is trial 92 with value: 0.20796202812782413.\u001b[0m\n",
            "\u001b[32m[I 2021-09-26 18:29:45,016]\u001b[0m Trial 115 finished with value: 0.20795004799805375 and parameters: {'C': 3.920890367697686, 'nu': 0.49301673988008216}. Best is trial 115 with value: 0.20795004799805375.\u001b[0m\n",
            "\u001b[32m[I 2021-09-26 18:29:55,286]\u001b[0m Trial 116 finished with value: 0.20828457862111935 and parameters: {'C': 3.7700963138991344, 'nu': 0.5534486599744375}. Best is trial 115 with value: 0.20795004799805375.\u001b[0m\n",
            "\u001b[32m[I 2021-09-26 18:30:00,318]\u001b[0m Trial 117 finished with value: 0.20872149846618052 and parameters: {'C': 3.8817631204079115, 'nu': 0.43385435435687136}. Best is trial 115 with value: 0.20795004799805375.\u001b[0m\n",
            "\u001b[32m[I 2021-09-26 18:30:10,826]\u001b[0m Trial 118 finished with value: 0.20852127527701378 and parameters: {'C': 3.6169631532284097, 'nu': 0.6214176537633558}. Best is trial 115 with value: 0.20795004799805375.\u001b[0m\n",
            "\u001b[32m[I 2021-09-26 18:30:16,388]\u001b[0m Trial 119 finished with value: 0.20806094246764076 and parameters: {'C': 3.9663872263103133, 'nu': 0.4642589625655565}. Best is trial 115 with value: 0.20795004799805375.\u001b[0m\n",
            "\u001b[32m[I 2021-09-26 18:30:23,046]\u001b[0m Trial 120 finished with value: 0.20798048331087507 and parameters: {'C': 3.765343852478613, 'nu': 0.5167580896670665}. Best is trial 115 with value: 0.20795004799805375.\u001b[0m\n",
            "\u001b[32m[I 2021-09-26 18:30:30,020]\u001b[0m Trial 121 finished with value: 0.20801092224629145 and parameters: {'C': 3.7762634666559807, 'nu': 0.5212346720768674}. Best is trial 115 with value: 0.20795004799805375.\u001b[0m\n",
            "\u001b[32m[I 2021-09-26 18:30:36,648]\u001b[0m Trial 122 finished with value: 0.20800029720497207 and parameters: {'C': 4.073695953276347, 'nu': 0.49444758878371015}. Best is trial 115 with value: 0.20795004799805375.\u001b[0m\n",
            "\u001b[32m[I 2021-09-26 18:30:43,929]\u001b[0m Trial 123 finished with value: 0.2085157424945154 and parameters: {'C': 3.3930041698850126, 'nu': 0.5611301023354313}. Best is trial 115 with value: 0.20795004799805375.\u001b[0m\n",
            "\u001b[32m[I 2021-09-26 18:30:50,015]\u001b[0m Trial 124 finished with value: 0.2079655002985056 and parameters: {'C': 3.897439531318557, 'nu': 0.4802362829427188}. Best is trial 115 with value: 0.20795004799805375.\u001b[0m\n",
            "\u001b[32m[I 2021-09-26 18:30:55,707]\u001b[0m Trial 125 finished with value: 0.20798277277909805 and parameters: {'C': 3.89957633491367, 'nu': 0.4739600347286612}. Best is trial 115 with value: 0.20795004799805375.\u001b[0m\n",
            "\u001b[32m[I 2021-09-26 18:30:59,952]\u001b[0m Trial 126 finished with value: 0.21005818229385131 and parameters: {'C': 3.5521692670283875, 'nu': 0.41318069748951247}. Best is trial 115 with value: 0.20795004799805375.\u001b[0m\n",
            "\u001b[32m[I 2021-09-26 18:31:05,215]\u001b[0m Trial 127 finished with value: 0.20828930035082613 and parameters: {'C': 3.7088001813497695, 'nu': 0.46837135588331896}. Best is trial 115 with value: 0.20795004799805375.\u001b[0m\n",
            "\u001b[32m[I 2021-09-26 18:31:14,103]\u001b[0m Trial 128 finished with value: 0.20812580309960174 and parameters: {'C': 3.9347413638783206, 'nu': 0.537150629028156}. Best is trial 115 with value: 0.20795004799805375.\u001b[0m\n",
            "\u001b[32m[I 2021-09-26 18:31:20,227]\u001b[0m Trial 129 finished with value: 0.20818253220145128 and parameters: {'C': 4.410377867728654, 'nu': 0.4495487814066273}. Best is trial 115 with value: 0.20795004799805375.\u001b[0m\n",
            "\u001b[32m[I 2021-09-26 18:31:25,043]\u001b[0m Trial 130 finished with value: 0.20891058686415717 and parameters: {'C': 3.2225419317138657, 'nu': 0.4864344059792756}. Best is trial 115 with value: 0.20795004799805375.\u001b[0m\n",
            "\u001b[32m[I 2021-09-26 18:31:31,923]\u001b[0m Trial 131 finished with value: 0.20797123508505586 and parameters: {'C': 3.836092276409723, 'nu': 0.5158381384170577}. Best is trial 115 with value: 0.20795004799805375.\u001b[0m\n",
            "\u001b[32m[I 2021-09-26 18:31:39,196]\u001b[0m Trial 132 finished with value: 0.20799027126001984 and parameters: {'C': 3.8179886260816085, 'nu': 0.5255606243401335}. Best is trial 115 with value: 0.20795004799805375.\u001b[0m\n",
            "\u001b[32m[I 2021-09-26 18:31:50,708]\u001b[0m Trial 133 finished with value: 0.20830347764209667 and parameters: {'C': 3.811318884133563, 'nu': 0.5844810325738515}. Best is trial 115 with value: 0.20795004799805375.\u001b[0m\n",
            "\u001b[32m[I 2021-09-26 18:31:57,726]\u001b[0m Trial 134 finished with value: 0.20808521826867302 and parameters: {'C': 3.650143377707677, 'nu': 0.5337310262702544}. Best is trial 115 with value: 0.20795004799805375.\u001b[0m\n",
            "\u001b[32m[I 2021-09-26 18:32:02,750]\u001b[0m Trial 135 finished with value: 0.2085003198446585 and parameters: {'C': 3.4926075190678314, 'nu': 0.4734787449324476}. Best is trial 115 with value: 0.20795004799805375.\u001b[0m\n",
            "\u001b[32m[I 2021-09-26 18:32:07,521]\u001b[0m Trial 136 finished with value: 0.20889010798484384 and parameters: {'C': 3.7340521649086202, 'nu': 0.43545472054309153}. Best is trial 115 with value: 0.20795004799805375.\u001b[0m\n",
            "\u001b[32m[I 2021-09-26 18:32:19,011]\u001b[0m Trial 137 finished with value: 0.20825716945706083 and parameters: {'C': 3.860455992324204, 'nu': 0.5512636638750951}. Best is trial 115 with value: 0.20795004799805375.\u001b[0m\n",
            "\u001b[32m[I 2021-09-26 18:32:26,633]\u001b[0m Trial 138 finished with value: 0.20799141875669863 and parameters: {'C': 4.049374847889471, 'nu': 0.5157054943341675}. Best is trial 115 with value: 0.20795004799805375.\u001b[0m\n",
            "\u001b[32m[I 2021-09-26 18:32:28,541]\u001b[0m Trial 139 finished with value: 0.2566127287684725 and parameters: {'C': 0.4180881579600122, 'nu': 0.4965031947558075}. Best is trial 115 with value: 0.20795004799805375.\u001b[0m\n",
            "\u001b[32m[I 2021-09-26 18:32:40,924]\u001b[0m Trial 140 finished with value: 0.20817435858678107 and parameters: {'C': 4.182708946828113, 'nu': 0.5644154130118714}. Best is trial 115 with value: 0.20795004799805375.\u001b[0m\n",
            "\u001b[32m[I 2021-09-26 18:32:48,189]\u001b[0m Trial 141 finished with value: 0.20796646723321774 and parameters: {'C': 3.9328387826664883, 'nu': 0.515836056789257}. Best is trial 115 with value: 0.20795004799805375.\u001b[0m\n",
            "\u001b[32m[I 2021-09-26 18:32:55,713]\u001b[0m Trial 142 finished with value: 0.20797534507043244 and parameters: {'C': 3.923101356295132, 'nu': 0.5243379882518977}. Best is trial 115 with value: 0.20795004799805375.\u001b[0m\n",
            "\u001b[32m[I 2021-09-26 18:33:01,457]\u001b[0m Trial 143 finished with value: 0.20796648493739792 and parameters: {'C': 3.958335168829457, 'nu': 0.47465205871503957}. Best is trial 115 with value: 0.20795004799805375.\u001b[0m\n",
            "\u001b[32m[I 2021-09-26 18:33:07,351]\u001b[0m Trial 144 finished with value: 0.20798603101559351 and parameters: {'C': 3.973036521266791, 'nu': 0.4766237516800341}. Best is trial 115 with value: 0.20795004799805375.\u001b[0m\n",
            "\u001b[32m[I 2021-09-26 18:33:13,011]\u001b[0m Trial 145 finished with value: 0.20797240964862837 and parameters: {'C': 3.883147348384624, 'nu': 0.4776467627265329}. Best is trial 115 with value: 0.20795004799805375.\u001b[0m\n",
            "\u001b[32m[I 2021-09-26 18:33:18,037]\u001b[0m Trial 146 finished with value: 0.20863706332149035 and parameters: {'C': 3.65456041018541, 'nu': 0.4554509531253154}. Best is trial 115 with value: 0.20795004799805375.\u001b[0m\n",
            "\u001b[32m[I 2021-09-26 18:33:23,063]\u001b[0m Trial 147 finished with value: 0.20862900022243816 and parameters: {'C': 3.9170119406131976, 'nu': 0.4370506427184843}. Best is trial 115 with value: 0.20795004799805375.\u001b[0m\n",
            "\u001b[32m[I 2021-09-26 18:33:28,764]\u001b[0m Trial 148 finished with value: 0.20798208401680715 and parameters: {'C': 3.7862063843595024, 'nu': 0.4873584671583243}. Best is trial 115 with value: 0.20795004799805375.\u001b[0m\n",
            "\u001b[32m[I 2021-09-26 18:33:34,068]\u001b[0m Trial 149 finished with value: 0.208335697405591 and parameters: {'C': 3.385253241091333, 'nu': 0.49941025289943236}. Best is trial 115 with value: 0.20795004799805375.\u001b[0m\n",
            "\u001b[32m[I 2021-09-26 18:33:40,931]\u001b[0m Trial 150 finished with value: 0.20814291445790453 and parameters: {'C': 3.5903664665385664, 'nu': 0.5363273356780891}. Best is trial 115 with value: 0.20795004799805375.\u001b[0m\n",
            "\u001b[32m[I 2021-09-26 18:33:46,503]\u001b[0m Trial 151 finished with value: 0.2080383365861504 and parameters: {'C': 3.789491788103626, 'nu': 0.47833738212707144}. Best is trial 115 with value: 0.20795004799805375.\u001b[0m\n",
            "\u001b[32m[I 2021-09-26 18:33:51,649]\u001b[0m Trial 152 finished with value: 0.20835212163412486 and parameters: {'C': 3.7127271078321704, 'nu': 0.4650831525436548}. Best is trial 115 with value: 0.20795004799805375.\u001b[0m\n",
            "\u001b[32m[I 2021-09-26 18:33:57,618]\u001b[0m Trial 153 finished with value: 0.20796156294279977 and parameters: {'C': 3.8826877860982645, 'nu': 0.48813370989756416}. Best is trial 115 with value: 0.20795004799805375.\u001b[0m\n",
            "\u001b[32m[I 2021-09-26 18:34:02,108]\u001b[0m Trial 154 finished with value: 0.20937220513931892 and parameters: {'C': 4.1360164487753375, 'nu': 0.39211514827061456}. Best is trial 115 with value: 0.20795004799805375.\u001b[0m\n",
            "\u001b[32m[I 2021-09-26 18:34:08,466]\u001b[0m Trial 155 finished with value: 0.20795058195407795 and parameters: {'C': 3.837967286103674, 'nu': 0.5003928254340603}. Best is trial 115 with value: 0.20795004799805375.\u001b[0m\n",
            "\u001b[32m[I 2021-09-26 18:34:13,112]\u001b[0m Trial 156 finished with value: 0.2092046634439533 and parameters: {'C': 3.8619666175472362, 'nu': 0.41497640886772386}. Best is trial 115 with value: 0.20795004799805375.\u001b[0m\n",
            "\u001b[32m[I 2021-09-26 18:34:21,774]\u001b[0m Trial 157 finished with value: 0.20825184043184486 and parameters: {'C': 3.7382928034685565, 'nu': 0.5492946745350286}. Best is trial 115 with value: 0.20795004799805375.\u001b[0m\n",
            "\u001b[32m[I 2021-09-26 18:34:28,282]\u001b[0m Trial 158 finished with value: 0.2079835439908581 and parameters: {'C': 4.014730666099684, 'nu': 0.49353570384293577}. Best is trial 115 with value: 0.20795004799805375.\u001b[0m\n",
            "\u001b[32m[I 2021-09-26 18:34:32,659]\u001b[0m Trial 159 finished with value: 0.21055922051798787 and parameters: {'C': 2.6354562799359096, 'nu': 0.5240574024114126}. Best is trial 115 with value: 0.20795004799805375.\u001b[0m\n",
            "\u001b[32m[I 2021-09-26 18:34:37,435]\u001b[0m Trial 160 finished with value: 0.20893954278708407 and parameters: {'C': 3.546002672728479, 'nu': 0.4475992335711769}. Best is trial 115 with value: 0.20795004799805375.\u001b[0m\n",
            "\u001b[32m[I 2021-09-26 18:34:44,867]\u001b[0m Trial 161 finished with value: 0.20798587326376478 and parameters: {'C': 4.103501862377225, 'nu': 0.5116228883274934}. Best is trial 115 with value: 0.20795004799805375.\u001b[0m\n",
            "\u001b[32m[I 2021-09-26 18:34:50,948]\u001b[0m Trial 162 finished with value: 0.20794861752319319 and parameters: {'C': 3.921285755162682, 'nu': 0.48969322540496285}. Best is trial 162 with value: 0.20794861752319319.\u001b[0m\n",
            "\u001b[32m[I 2021-09-26 18:34:57,268]\u001b[0m Trial 163 finished with value: 0.2079426602822171 and parameters: {'C': 3.926593473615364, 'nu': 0.4953738986180341}. Best is trial 163 with value: 0.2079426602822171.\u001b[0m\n",
            "\u001b[32m[I 2021-09-26 18:35:06,153]\u001b[0m Trial 164 finished with value: 0.20811778718205015 and parameters: {'C': 3.958426090562235, 'nu': 0.5361171472783756}. Best is trial 163 with value: 0.2079426602822171.\u001b[0m\n",
            "\u001b[32m[I 2021-09-26 18:35:11,459]\u001b[0m Trial 165 finished with value: 0.20823720071572496 and parameters: {'C': 3.8836222295228677, 'nu': 0.4594489994883325}. Best is trial 163 with value: 0.2079426602822171.\u001b[0m\n",
            "\u001b[32m[I 2021-09-26 18:35:23,344]\u001b[0m Trial 166 finished with value: 0.20818829557851415 and parameters: {'C': 4.031323722024622, 'nu': 0.5746908260872586}. Best is trial 163 with value: 0.2079426602822171.\u001b[0m\n",
            "\u001b[32m[I 2021-09-26 18:35:29,020]\u001b[0m Trial 167 finished with value: 0.2080082377809648 and parameters: {'C': 3.6667816912471523, 'nu': 0.49799681320947015}. Best is trial 163 with value: 0.2079426602822171.\u001b[0m\n",
            "\u001b[32m[I 2021-09-26 18:35:36,225]\u001b[0m Trial 168 finished with value: 0.20801452683465418 and parameters: {'C': 3.840443077990273, 'nu': 0.5233945685586396}. Best is trial 163 with value: 0.2079426602822171.\u001b[0m\n",
            "\u001b[32m[I 2021-09-26 18:35:42,145]\u001b[0m Trial 169 finished with value: 0.2079966756394985 and parameters: {'C': 3.951857256230694, 'nu': 0.47895155992063887}. Best is trial 163 with value: 0.2079426602822171.\u001b[0m\n",
            "\u001b[32m[I 2021-09-26 18:35:54,313]\u001b[0m Trial 170 finished with value: 0.20820069052929338 and parameters: {'C': 4.121388775839021, 'nu': 0.5501967312314641}. Best is trial 163 with value: 0.2079426602822171.\u001b[0m\n",
            "\u001b[32m[I 2021-09-26 18:36:00,210]\u001b[0m Trial 171 finished with value: 0.20794990936172963 and parameters: {'C': 3.8330533337893464, 'nu': 0.48835406501422984}. Best is trial 163 with value: 0.2079426602822171.\u001b[0m\n",
            "\u001b[32m[I 2021-09-26 18:36:06,298]\u001b[0m Trial 172 finished with value: 0.2079705779993578 and parameters: {'C': 3.7230088925478757, 'nu': 0.5032388925457221}. Best is trial 163 with value: 0.2079426602822171.\u001b[0m\n",
            "\u001b[32m[I 2021-09-26 18:36:12,452]\u001b[0m Trial 173 finished with value: 0.20793650305272615 and parameters: {'C': 3.8750479370505153, 'nu': 0.49366125963763174}. Best is trial 173 with value: 0.20793650305272615.\u001b[0m\n",
            "\u001b[32m[I 2021-09-26 18:36:18,970]\u001b[0m Trial 174 finished with value: 0.2079508006152177 and parameters: {'C': 3.9203348846682244, 'nu': 0.4981412703440152}. Best is trial 173 with value: 0.20793650305272615.\u001b[0m\n",
            "\u001b[32m[I 2021-09-26 18:36:24,642]\u001b[0m Trial 175 finished with value: 0.20814093941573222 and parameters: {'C': 4.036087550604819, 'nu': 0.4580971747751436}. Best is trial 173 with value: 0.20793650305272615.\u001b[0m\n",
            "\u001b[32m[I 2021-09-26 18:36:29,339]\u001b[0m Trial 176 finished with value: 0.2088961420453674 and parameters: {'C': 3.67617183982525, 'nu': 0.4392897699171383}. Best is trial 173 with value: 0.20793650305272615.\u001b[0m\n",
            "\u001b[32m[I 2021-09-26 18:36:35,518]\u001b[0m Trial 177 finished with value: 0.20795112770086907 and parameters: {'C': 3.859746297908308, 'nu': 0.49913002388314737}. Best is trial 173 with value: 0.20793650305272615.\u001b[0m\n",
            "\u001b[32m[I 2021-09-26 18:36:36,481]\u001b[0m Trial 178 finished with value: 0.2454797481881993 and parameters: {'C': 3.608938867224216, 'nu': 0.09576952550613316}. Best is trial 173 with value: 0.20793650305272615.\u001b[0m\n",
            "\u001b[32m[I 2021-09-26 18:36:42,700]\u001b[0m Trial 179 finished with value: 0.20795263790201596 and parameters: {'C': 3.8176130552579446, 'nu': 0.5016045885457725}. Best is trial 173 with value: 0.20793650305272615.\u001b[0m\n",
            "\u001b[32m[I 2021-09-26 18:36:50,102]\u001b[0m Trial 180 finished with value: 0.20799439823411986 and parameters: {'C': 4.24459561458849, 'nu': 0.49896072947979075}. Best is trial 173 with value: 0.20793650305272615.\u001b[0m\n",
            "\u001b[32m[I 2021-09-26 18:36:56,243]\u001b[0m Trial 181 finished with value: 0.20794652210562778 and parameters: {'C': 3.819914110743, 'nu': 0.5020980664391292}. Best is trial 173 with value: 0.20793650305272615.\u001b[0m\n",
            "\u001b[32m[I 2021-09-26 18:37:02,375]\u001b[0m Trial 182 finished with value: 0.20796384593307832 and parameters: {'C': 3.770661203896231, 'nu': 0.49982424210826765}. Best is trial 173 with value: 0.20793650305272615.\u001b[0m\n",
            "\u001b[32m[I 2021-09-26 18:37:08,175]\u001b[0m Trial 183 finished with value: 0.20798616919176385 and parameters: {'C': 3.730986107101909, 'nu': 0.4939720281357157}. Best is trial 173 with value: 0.20793650305272615.\u001b[0m\n",
            "\u001b[32m[I 2021-09-26 18:37:13,832]\u001b[0m Trial 184 finished with value: 0.2080488539600873 and parameters: {'C': 3.9834664272761104, 'nu': 0.46465935776610245}. Best is trial 173 with value: 0.20793650305272615.\u001b[0m\n",
            "\u001b[32m[I 2021-09-26 18:37:19,646]\u001b[0m Trial 185 finished with value: 0.20797327832286983 and parameters: {'C': 3.790678348379348, 'nu': 0.48741340402154654}. Best is trial 173 with value: 0.20793650305272615.\u001b[0m\n",
            "\u001b[32m[I 2021-09-26 18:37:25,183]\u001b[0m Trial 186 finished with value: 0.20816277538875602 and parameters: {'C': 3.4670710749124267, 'nu': 0.5022545066530131}. Best is trial 173 with value: 0.20793650305272615.\u001b[0m\n",
            "\u001b[32m[I 2021-09-26 18:37:30,093]\u001b[0m Trial 187 finished with value: 0.20880196970976048 and parameters: {'C': 3.9266876499465546, 'nu': 0.4265851927110109}. Best is trial 173 with value: 0.20793650305272615.\u001b[0m\n",
            "\u001b[32m[I 2021-09-26 18:37:42,743]\u001b[0m Trial 188 finished with value: 0.20818594584651343 and parameters: {'C': 4.061996640597265, 'nu': 0.5443640741365605}. Best is trial 173 with value: 0.20793650305272615.\u001b[0m\n",
            "\u001b[32m[I 2021-09-26 18:37:47,877]\u001b[0m Trial 189 finished with value: 0.20867981117264592 and parameters: {'C': 3.648017567082457, 'nu': 0.45357570193990304}. Best is trial 173 with value: 0.20793650305272615.\u001b[0m\n",
            "\u001b[32m[I 2021-09-26 18:37:53,611]\u001b[0m Trial 190 finished with value: 0.20799291125899347 and parameters: {'C': 3.834024308926111, 'nu': 0.4780068014936689}. Best is trial 173 with value: 0.20793650305272615.\u001b[0m\n",
            "\u001b[32m[I 2021-09-26 18:38:00,536]\u001b[0m Trial 191 finished with value: 0.20795595564108413 and parameters: {'C': 3.8392645103476513, 'nu': 0.5124250882599133}. Best is trial 173 with value: 0.20793650305272615.\u001b[0m\n",
            "\u001b[32m[I 2021-09-26 18:38:07,493]\u001b[0m Trial 192 finished with value: 0.20796892428664435 and parameters: {'C': 3.9826729667683596, 'nu': 0.5048202800275924}. Best is trial 173 with value: 0.20793650305272615.\u001b[0m\n",
            "\u001b[32m[I 2021-09-26 18:38:15,582]\u001b[0m Trial 193 finished with value: 0.20802981305988447 and parameters: {'C': 4.0017907365336916, 'nu': 0.5249608895538433}. Best is trial 173 with value: 0.20793650305272615.\u001b[0m\n",
            "\u001b[32m[I 2021-09-26 18:38:28,166]\u001b[0m Trial 194 finished with value: 0.20819139584651866 and parameters: {'C': 4.126125881218588, 'nu': 0.5363783345583351}. Best is trial 173 with value: 0.20793650305272615.\u001b[0m\n",
            "\u001b[32m[I 2021-09-26 18:38:34,750]\u001b[0m Trial 195 finished with value: 0.20797584678676967 and parameters: {'C': 3.917208768946625, 'nu': 0.47934635004086296}. Best is trial 173 with value: 0.20793650305272615.\u001b[0m\n",
            "\u001b[32m[I 2021-09-26 18:38:42,169]\u001b[0m Trial 196 finished with value: 0.2079855304508572 and parameters: {'C': 3.805400310735512, 'nu': 0.513919002109744}. Best is trial 173 with value: 0.20793650305272615.\u001b[0m\n",
            "\u001b[32m[I 2021-09-26 18:38:55,737]\u001b[0m Trial 197 finished with value: 0.20821832783769945 and parameters: {'C': 3.934780935045235, 'nu': 0.563137150211503}. Best is trial 173 with value: 0.20793650305272615.\u001b[0m\n",
            "\u001b[32m[I 2021-09-26 18:39:03,235]\u001b[0m Trial 198 finished with value: 0.20798873313077368 and parameters: {'C': 4.088630715243436, 'nu': 0.4954408960647695}. Best is trial 173 with value: 0.20793650305272615.\u001b[0m\n",
            "\u001b[32m[I 2021-09-26 18:39:09,166]\u001b[0m Trial 199 finished with value: 0.20818059756769133 and parameters: {'C': 3.866438310479554, 'nu': 0.4639566725040078}. Best is trial 173 with value: 0.20793650305272615.\u001b[0m\n",
            "\u001b[32m[I 2021-09-26 18:39:22,295]\u001b[0m Trial 200 finished with value: 0.20817979959929014 and parameters: {'C': 4.185862189579997, 'nu': 0.533292019793217}. Best is trial 173 with value: 0.20793650305272615.\u001b[0m\n",
            "\u001b[32m[I 2021-09-26 18:39:29,077]\u001b[0m Trial 201 finished with value: 0.20796290709138293 and parameters: {'C': 3.7279792250508765, 'nu': 0.5043398567468023}. Best is trial 173 with value: 0.20793650305272615.\u001b[0m\n",
            "\u001b[32m[I 2021-09-26 18:39:35,831]\u001b[0m Trial 202 finished with value: 0.20797476151806088 and parameters: {'C': 3.706669560745875, 'nu': 0.512183106706499}. Best is trial 173 with value: 0.20793650305272615.\u001b[0m\n",
            "\u001b[32m[I 2021-09-26 18:39:42,121]\u001b[0m Trial 203 finished with value: 0.20797687851252653 and parameters: {'C': 3.9699802650587586, 'nu': 0.48574251327966605}. Best is trial 173 with value: 0.20793650305272615.\u001b[0m\n",
            "\u001b[32m[I 2021-09-26 18:39:48,454]\u001b[0m Trial 204 finished with value: 0.20792927246418547 and parameters: {'C': 3.8110520767474307, 'nu': 0.49833261781926474}. Best is trial 204 with value: 0.20792927246418547.\u001b[0m\n",
            "\u001b[32m[I 2021-09-26 18:39:53,246]\u001b[0m Trial 205 finished with value: 0.20896838050174496 and parameters: {'C': 3.5593592933592464, 'nu': 0.44593965764981824}. Best is trial 204 with value: 0.20792927246418547.\u001b[0m\n",
            "\u001b[32m[I 2021-09-26 18:39:58,816]\u001b[0m Trial 206 finished with value: 0.20809038690014212 and parameters: {'C': 3.7914729718722344, 'nu': 0.47329075347759875}. Best is trial 204 with value: 0.20792927246418547.\u001b[0m\n",
            "\u001b[32m[I 2021-09-26 18:40:06,455]\u001b[0m Trial 207 finished with value: 0.2080372867453409 and parameters: {'C': 3.844601202642643, 'nu': 0.530551687549379}. Best is trial 204 with value: 0.20792927246418547.\u001b[0m\n",
            "\u001b[32m[I 2021-09-26 18:40:12,261]\u001b[0m Trial 208 finished with value: 0.20799524034885522 and parameters: {'C': 3.7118750949970036, 'nu': 0.492686164906428}. Best is trial 204 with value: 0.20792927246418547.\u001b[0m\n",
            "\u001b[32m[I 2021-09-26 18:40:18,955]\u001b[0m Trial 209 finished with value: 0.20795415059665548 and parameters: {'C': 3.8853073349748612, 'nu': 0.509636971925392}. Best is trial 204 with value: 0.20792927246418547.\u001b[0m\n",
            "\u001b[32m[I 2021-09-26 18:40:26,821]\u001b[0m Trial 210 finished with value: 0.208295775418807 and parameters: {'C': 3.6132984945852673, 'nu': 0.5502651144142582}. Best is trial 204 with value: 0.20792927246418547.\u001b[0m\n",
            "\u001b[32m[I 2021-09-26 18:40:33,810]\u001b[0m Trial 211 finished with value: 0.20796055869368757 and parameters: {'C': 3.8903519227594954, 'nu': 0.5132859796328824}. Best is trial 204 with value: 0.20792927246418547.\u001b[0m\n",
            "\u001b[32m[I 2021-09-26 18:40:40,374]\u001b[0m Trial 212 finished with value: 0.20797031630733848 and parameters: {'C': 3.7987711027717945, 'nu': 0.5127929634686617}. Best is trial 204 with value: 0.20792927246418547.\u001b[0m\n",
            "\u001b[32m[I 2021-09-26 18:40:47,439]\u001b[0m Trial 213 finished with value: 0.20796990855512357 and parameters: {'C': 3.87777530164633, 'nu': 0.512402102938533}. Best is trial 204 with value: 0.20792927246418547.\u001b[0m\n",
            "\u001b[32m[I 2021-09-26 18:40:53,397]\u001b[0m Trial 214 finished with value: 0.20796257820222758 and parameters: {'C': 3.7295898392635296, 'nu': 0.4969507326633356}. Best is trial 204 with value: 0.20792927246418547.\u001b[0m\n",
            "\u001b[32m[I 2021-09-26 18:40:59,033]\u001b[0m Trial 215 finished with value: 0.20800312238422725 and parameters: {'C': 3.719462141119316, 'nu': 0.48936669989673953}. Best is trial 204 with value: 0.20792927246418547.\u001b[0m\n",
            "\u001b[32m[I 2021-09-26 18:41:06,681]\u001b[0m Trial 216 finished with value: 0.20808221577837166 and parameters: {'C': 3.7666840306813825, 'nu': 0.536449824888526}. Best is trial 204 with value: 0.20792927246418547.\u001b[0m\n",
            "\u001b[32m[I 2021-09-26 18:41:11,825]\u001b[0m Trial 217 finished with value: 0.208477259967785 and parameters: {'C': 3.613498107933659, 'nu': 0.465733265040748}. Best is trial 204 with value: 0.20792927246418547.\u001b[0m\n",
            "\u001b[32m[I 2021-09-26 18:41:18,082]\u001b[0m Trial 218 finished with value: 0.2079429767293309 and parameters: {'C': 3.865226803940968, 'nu': 0.4987138294733036}. Best is trial 204 with value: 0.20792927246418547.\u001b[0m\n",
            "\u001b[32m[I 2021-09-26 18:41:24,621]\u001b[0m Trial 219 finished with value: 0.20797025524736878 and parameters: {'C': 4.023781787492447, 'nu': 0.4956847412664789}. Best is trial 204 with value: 0.20792927246418547.\u001b[0m\n",
            "\u001b[32m[I 2021-09-26 18:41:30,406]\u001b[0m Trial 220 finished with value: 0.20797379018691767 and parameters: {'C': 3.862719035396948, 'nu': 0.47851521488414794}. Best is trial 204 with value: 0.20792927246418547.\u001b[0m\n",
            "\u001b[32m[I 2021-09-26 18:41:36,931]\u001b[0m Trial 221 finished with value: 0.20795421618989404 and parameters: {'C': 3.859502955654959, 'nu': 0.5030745393015401}. Best is trial 204 with value: 0.20792927246418547.\u001b[0m\n",
            "\u001b[32m[I 2021-09-26 18:41:43,381]\u001b[0m Trial 222 finished with value: 0.20797948809329575 and parameters: {'C': 3.8725177519014173, 'nu': 0.5023322615434194}. Best is trial 204 with value: 0.20792927246418547.\u001b[0m\n",
            "\u001b[32m[I 2021-09-26 18:41:52,558]\u001b[0m Trial 223 finished with value: 0.2081207670499312 and parameters: {'C': 4.0524442749891705, 'nu': 0.531919956143351}. Best is trial 204 with value: 0.20792927246418547.\u001b[0m\n",
            "\u001b[32m[I 2021-09-26 18:41:54,860]\u001b[0m Trial 224 finished with value: 0.22583150425250675 and parameters: {'C': 1.0800938941225775, 'nu': 0.4598961994343802}. Best is trial 204 with value: 0.20792927246418547.\u001b[0m\n",
            "\u001b[32m[I 2021-09-26 18:42:00,748]\u001b[0m Trial 225 finished with value: 0.2079734262550176 and parameters: {'C': 3.7813118652195197, 'nu': 0.49048655318262396}. Best is trial 204 with value: 0.20792927246418547.\u001b[0m\n",
            "\u001b[32m[I 2021-09-26 18:42:08,062]\u001b[0m Trial 226 finished with value: 0.20796715753441625 and parameters: {'C': 3.907397419087159, 'nu': 0.5200827184091663}. Best is trial 204 with value: 0.20792927246418547.\u001b[0m\n",
            "\u001b[32m[I 2021-09-26 18:42:13,956]\u001b[0m Trial 227 finished with value: 0.2079734822057318 and parameters: {'C': 3.6821327095175453, 'nu': 0.4999418625620749}. Best is trial 204 with value: 0.20792927246418547.\u001b[0m\n",
            "\u001b[32m[I 2021-09-26 18:42:19,923]\u001b[0m Trial 228 finished with value: 0.20799312922454363 and parameters: {'C': 3.984313765912437, 'nu': 0.47680128371980385}. Best is trial 204 with value: 0.20792927246418547.\u001b[0m\n",
            "\u001b[32m[I 2021-09-26 18:42:23,053]\u001b[0m Trial 229 finished with value: 0.21580195693177345 and parameters: {'C': 1.5491030179757965, 'nu': 0.5437202341761396}. Best is trial 204 with value: 0.20792927246418547.\u001b[0m\n",
            "\u001b[32m[I 2021-09-26 18:42:28,144]\u001b[0m Trial 230 finished with value: 0.20863429243188414 and parameters: {'C': 3.85422599746721, 'nu': 0.44094947289556413}. Best is trial 204 with value: 0.20792927246418547.\u001b[0m\n",
            "\u001b[32m[I 2021-09-26 18:42:34,562]\u001b[0m Trial 231 finished with value: 0.20800274334528257 and parameters: {'C': 3.68922286589587, 'nu': 0.5125968954952825}. Best is trial 204 with value: 0.20792927246418547.\u001b[0m\n",
            "\u001b[32m[I 2021-09-26 18:42:41,168]\u001b[0m Trial 232 finished with value: 0.20793181731128788 and parameters: {'C': 3.7784309905239675, 'nu': 0.5040290392699927}. Best is trial 204 with value: 0.20792927246418547.\u001b[0m\n",
            "\u001b[32m[I 2021-09-26 18:42:47,363]\u001b[0m Trial 233 finished with value: 0.20797446121828778 and parameters: {'C': 3.7688895687212463, 'nu': 0.4873252376624044}. Best is trial 204 with value: 0.20792927246418547.\u001b[0m\n",
            "\u001b[32m[I 2021-09-26 18:42:55,287]\u001b[0m Trial 234 finished with value: 0.20797978526077116 and parameters: {'C': 3.929443192327147, 'nu': 0.5207728450460888}. Best is trial 204 with value: 0.20792927246418547.\u001b[0m\n",
            "\u001b[32m[I 2021-09-26 18:43:01,636]\u001b[0m Trial 235 finished with value: 0.20793419727613946 and parameters: {'C': 3.823234927473582, 'nu': 0.5017952749653976}. Best is trial 204 with value: 0.20792927246418547.\u001b[0m\n",
            "\u001b[32m[I 2021-09-26 18:43:08,030]\u001b[0m Trial 236 finished with value: 0.20793409804330132 and parameters: {'C': 3.8008267068393202, 'nu': 0.5041582777874458}. Best is trial 204 with value: 0.20792927246418547.\u001b[0m\n",
            "\u001b[32m[I 2021-09-26 18:43:13,745]\u001b[0m Trial 237 finished with value: 0.20805930890968094 and parameters: {'C': 3.5923361534406655, 'nu': 0.500060136803991}. Best is trial 204 with value: 0.20792927246418547.\u001b[0m\n",
            "\u001b[32m[I 2021-09-26 18:43:20,870]\u001b[0m Trial 238 finished with value: 0.20801742218159158 and parameters: {'C': 3.7544477294920418, 'nu': 0.5245325427033499}. Best is trial 204 with value: 0.20792927246418547.\u001b[0m\n",
            "\u001b[32m[I 2021-09-26 18:43:26,199]\u001b[0m Trial 239 finished with value: 0.20820503369885426 and parameters: {'C': 3.816351280014548, 'nu': 0.4653660878877005}. Best is trial 204 with value: 0.20792927246418547.\u001b[0m\n",
            "\u001b[32m[I 2021-09-26 18:43:32,297]\u001b[0m Trial 240 finished with value: 0.20797298037089992 and parameters: {'C': 3.6740529255205288, 'nu': 0.5015834822959446}. Best is trial 204 with value: 0.20792927246418547.\u001b[0m\n",
            "\u001b[32m[I 2021-09-26 18:43:39,408]\u001b[0m Trial 241 finished with value: 0.20796746182865314 and parameters: {'C': 3.8988513105606044, 'nu': 0.5070267542745507}. Best is trial 204 with value: 0.20792927246418547.\u001b[0m\n",
            "\u001b[32m[I 2021-09-26 18:43:51,621]\u001b[0m Trial 242 finished with value: 0.2081949017383197 and parameters: {'C': 4.020408825897946, 'nu': 0.5554221578146887}. Best is trial 204 with value: 0.20792927246418547.\u001b[0m\n",
            "\u001b[32m[I 2021-09-26 18:43:58,850]\u001b[0m Trial 243 finished with value: 0.20798560106216013 and parameters: {'C': 3.7952889897827524, 'nu': 0.5245881230315702}. Best is trial 204 with value: 0.20792927246418547.\u001b[0m\n",
            "\u001b[32m[I 2021-09-26 18:44:04,625]\u001b[0m Trial 244 finished with value: 0.2079605960153869 and parameters: {'C': 3.850663972150302, 'nu': 0.4862468280102195}. Best is trial 204 with value: 0.20792927246418547.\u001b[0m\n",
            "\u001b[32m[I 2021-09-26 18:44:10,214]\u001b[0m Trial 245 finished with value: 0.20797676454554703 and parameters: {'C': 3.8443776091798902, 'nu': 0.48306063911869757}. Best is trial 204 with value: 0.20792927246418547.\u001b[0m\n",
            "\u001b[32m[I 2021-09-26 18:44:15,559]\u001b[0m Trial 246 finished with value: 0.20802787922195382 and parameters: {'C': 3.9595865659875624, 'nu': 0.46570169382141263}. Best is trial 204 with value: 0.20792927246418547.\u001b[0m\n",
            "\u001b[32m[I 2021-09-26 18:44:21,421]\u001b[0m Trial 247 finished with value: 0.20796061355818718 and parameters: {'C': 3.730825123232554, 'nu': 0.501694125723421}. Best is trial 204 with value: 0.20792927246418547.\u001b[0m\n",
            "\u001b[32m[I 2021-09-26 18:44:26,708]\u001b[0m Trial 248 finished with value: 0.2082571342853615 and parameters: {'C': 3.519385793184385, 'nu': 0.4866384286018109}. Best is trial 204 with value: 0.20792927246418547.\u001b[0m\n",
            "\u001b[32m[I 2021-09-26 18:44:34,146]\u001b[0m Trial 249 finished with value: 0.20806620513339677 and parameters: {'C': 3.689444246731424, 'nu': 0.5329103043651542}. Best is trial 204 with value: 0.20792927246418547.\u001b[0m\n"
          ]
        }
      ]
    },
    {
      "cell_type": "markdown",
      "metadata": {
        "id": "u_7ZxGhxs8qS"
      },
      "source": [
        "## Model Training"
      ]
    },
    {
      "cell_type": "markdown",
      "metadata": {
        "id": "l0EZje_d_U0x"
      },
      "source": [
        "### Generic Models"
      ]
    },
    {
      "cell_type": "code",
      "metadata": {
        "id": "L4OPQE4EH1k7",
        "colab": {
          "base_uri": "https://localhost:8080/"
        },
        "outputId": "48b52fcd-8bfa-4870-d289-672a2610e27b"
      },
      "source": [
        "score = rmsle_cv(lasso)\n",
        "print(\"\\nLasso score: {:.4f} ({:.4f})\\n\".format(score.mean(), score.std()))\n",
        "score = rmsle_cv(ENet)\n",
        "print(\"ElasticNet score: {:.4f} ({:.4f})\\n\".format(score.mean(), score.std()))\n",
        "score = rmsle_cv(KRR)\n",
        "print(\"Kernel Ridge score: {:.4f} ({:.4f})\\n\".format(score.mean(), score.std()))\n",
        "score = rmsle_cv(GBoost)\n",
        "print(\"Gradient Boosting score: {:.4f} ({:.4f})\\n\".format(score.mean(), score.std()))"
      ],
      "execution_count": null,
      "outputs": [
        {
          "output_type": "stream",
          "name": "stdout",
          "text": [
            "\n",
            "Lasso score: 0.1244 (0.0146)\n",
            "\n",
            "ElasticNet score: 0.1245 (0.0146)\n",
            "\n",
            "Kernel Ridge score: 0.1257 (0.0123)\n",
            "\n",
            "Gradient Boosting score: 0.1194 (0.0099)\n",
            "\n"
          ]
        }
      ]
    },
    {
      "cell_type": "markdown",
      "metadata": {
        "id": "6mckFA7mDc_X"
      },
      "source": [
        "### XGB and LGBM"
      ]
    },
    {
      "cell_type": "code",
      "metadata": {
        "id": "5PjhNCgLMgaC",
        "colab": {
          "base_uri": "https://localhost:8080/"
        },
        "outputId": "8213501f-d070-40bc-d0ff-1551ff10acc2"
      },
      "source": [
        "model_xgb.fit(X_train_new, y)\n",
        "xgb_train_pred = model_xgb.predict(X_train_new)\n",
        "xgb_pred = np.expm1(model_xgb.predict(X_test_new))\n",
        "print(\"XGB score: {:.4f}\\n\" .format(rmsle(y, xgb_train_pred)))\n",
        "\n",
        "model_lgb.fit(X_train_new, y)\n",
        "lgb_train_pred = model_lgb.predict(X_train_new)\n",
        "lgb_pred = np.expm1(model_lgb.predict(X_test_new.values))\n",
        "print(\"LGBM score: {:.4f}\\n\" .format(rmsle(y, lgb_train_pred)))"
      ],
      "execution_count": null,
      "outputs": [
        {
          "output_type": "stream",
          "name": "stdout",
          "text": [
            "XGB score: 0.0625\n",
            "\n",
            "LGBM score: 0.0712\n",
            "\n"
          ]
        }
      ]
    },
    {
      "cell_type": "markdown",
      "metadata": {
        "id": "-2rc4e27_X0H"
      },
      "source": [
        "### NuSVR"
      ]
    },
    {
      "cell_type": "code",
      "metadata": {
        "id": "qg-tQeZt_Zdg"
      },
      "source": [
        "full_x = np.concatenate((x_train, x_val), axis=0)\n",
        "full_y = np.concatenate((y_train, y_val), axis=0)\n",
        "\n",
        "final_model = NuSVR(**study.best_params).fit(full_x, full_y)\n",
        "\n",
        "svr_pred = final_model.predict(test)\n",
        "svr_pred = scaler_y.inverse_transform(svr_pred)"
      ],
      "execution_count": null,
      "outputs": []
    },
    {
      "cell_type": "markdown",
      "metadata": {
        "id": "FXDNz8-ls_rC"
      },
      "source": [
        "## Model Stacking"
      ]
    },
    {
      "cell_type": "markdown",
      "metadata": {
        "id": "1UMEUn76NS01"
      },
      "source": [
        "Average (ElasticNet, Gradiet Boost, Kernel Ridge, Lasso)"
      ]
    },
    {
      "cell_type": "code",
      "metadata": {
        "id": "mrVLXDL1KT9J",
        "colab": {
          "base_uri": "https://localhost:8080/"
        },
        "outputId": "3840523f-6663-468c-8668-348f8a24592f"
      },
      "source": [
        "models = (ENet, GBoost, KRR, lasso)\n",
        "averaged_models = [clone(x) for x in models]\n",
        "\n",
        "for model in averaged_models:\n",
        "  model.fit(X_train_new.values, y)\n",
        "\n",
        "stacked_train_pred = np.mean(np.column_stack([model.predict(X_train_new.values) for model in averaged_models]), axis=1)\n",
        "stacked_pred = np.expm1(np.mean(np.column_stack([model.predict(X_test_new.values) for model in averaged_models]), axis=1))\n",
        "\n",
        "print(\"Stacked Model RMSE: \" + str(rmsle(y, stacked_train_pred)))"
      ],
      "execution_count": null,
      "outputs": [
        {
          "output_type": "stream",
          "name": "stdout",
          "text": [
            "Stacked Model RMSE: 0.07661157599281569\n"
          ]
        }
      ]
    },
    {
      "cell_type": "markdown",
      "metadata": {
        "id": "BCUBqdMMDAZF"
      },
      "source": [
        "## Model Ensembling & Prediction\n",
        "\n",
        "\n",
        "\n"
      ]
    },
    {
      "cell_type": "markdown",
      "metadata": {
        "id": "JOSYqMU7NQik"
      },
      "source": [
        "The ensembling weights have been optimized\n",
        "\n",
        "1.   Stacked Model: 32.5%\n",
        "2.   XGB: 10%\n",
        "3.   LGBM: 7.5%\n",
        "4.   NuSVR: 50%"
      ]
    },
    {
      "cell_type": "code",
      "metadata": {
        "colab": {
          "base_uri": "https://localhost:8080/",
          "height": 17
        },
        "id": "_5KXrPwHCp_M",
        "outputId": "2b0de7a0-09a7-4002-cfdf-bb2c532a24e4"
      },
      "source": [
        "ensemble = (0.5 * (stacked_pred*0.65 + xgb_pred*0.20 + lgb_pred*0.15)) + (0.5 * svr_pred)\n",
        "\n",
        "sub = pd.DataFrame()\n",
        "sub['Id'] = np.arange(1461, 2920, 1)\n",
        "sub['SalePrice'] = ensemble\n",
        "sub.to_csv('submission.csv',index=False)\n",
        "files.download('submission.csv')"
      ],
      "execution_count": null,
      "outputs": [
        {
          "output_type": "display_data",
          "data": {
            "application/javascript": [
              "\n",
              "    async function download(id, filename, size) {\n",
              "      if (!google.colab.kernel.accessAllowed) {\n",
              "        return;\n",
              "      }\n",
              "      const div = document.createElement('div');\n",
              "      const label = document.createElement('label');\n",
              "      label.textContent = `Downloading \"${filename}\": `;\n",
              "      div.appendChild(label);\n",
              "      const progress = document.createElement('progress');\n",
              "      progress.max = size;\n",
              "      div.appendChild(progress);\n",
              "      document.body.appendChild(div);\n",
              "\n",
              "      const buffers = [];\n",
              "      let downloaded = 0;\n",
              "\n",
              "      const channel = await google.colab.kernel.comms.open(id);\n",
              "      // Send a message to notify the kernel that we're ready.\n",
              "      channel.send({})\n",
              "\n",
              "      for await (const message of channel.messages) {\n",
              "        // Send a message to notify the kernel that we're ready.\n",
              "        channel.send({})\n",
              "        if (message.buffers) {\n",
              "          for (const buffer of message.buffers) {\n",
              "            buffers.push(buffer);\n",
              "            downloaded += buffer.byteLength;\n",
              "            progress.value = downloaded;\n",
              "          }\n",
              "        }\n",
              "      }\n",
              "      const blob = new Blob(buffers, {type: 'application/binary'});\n",
              "      const a = document.createElement('a');\n",
              "      a.href = window.URL.createObjectURL(blob);\n",
              "      a.download = filename;\n",
              "      div.appendChild(a);\n",
              "      a.click();\n",
              "      div.remove();\n",
              "    }\n",
              "  "
            ],
            "text/plain": [
              "<IPython.core.display.Javascript object>"
            ]
          },
          "metadata": {}
        },
        {
          "output_type": "display_data",
          "data": {
            "application/javascript": [
              "download(\"download_e39fad0d-7dba-4adb-b01e-68fe84941de7\", \"submission.csv\", 34437)"
            ],
            "text/plain": [
              "<IPython.core.display.Javascript object>"
            ]
          },
          "metadata": {}
        }
      ]
    },
    {
      "cell_type": "markdown",
      "metadata": {
        "id": "RT5nnggrUVu7"
      },
      "source": [
        "## Final Submission"
      ]
    },
    {
      "cell_type": "markdown",
      "metadata": {
        "id": "3b1enMJ8URZb"
      },
      "source": [
        "![Screen Shot 2021-09-26 at 1.14.43 PM.png](data:image/png;base64,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)"
      ]
    }
  ]
}